{
 "cells": [
  {
   "cell_type": "code",
   "execution_count": 2,
   "id": "tough-painting",
   "metadata": {},
   "outputs": [],
   "source": [
    "import random\n",
    "random.seed(0)\n",
    "import pandas as pd\n",
    "import numpy as np\n",
    "np.random.seed(0)\n",
    "from scipy import stats\n",
    "import seaborn as sns\n",
    "import matplotlib.pyplot as plt\n",
    "from IPython.display import YouTubeVideo"
   ]
  },
  {
   "cell_type": "markdown",
   "id": "conscious-behalf",
   "metadata": {},
   "source": [
    "# Super Statistics\n",
    "\n",
    "This lesson is designed to orient you to statistical thinking and give you practice with Python's statistics library (`scipy`).\n",
    "\n",
    "The assignment will be a mixture of reading informative pages, watching videos, and answering questions. Please do your best and seek help as needed!\n",
    "\n",
    "### Learning Goals\n",
    "\n",
    "By the end of the lesson, students should be able to:\n",
    "\n",
    "* Part 1\n",
    "    * Explain the concept of probability vs. statistics\n",
    "* Part 2\n",
    "    * Generate data using a distribution function from `scipy`\n",
    "* Part 3\n",
    "    * Given a dataset, generate and interpret appropriate summary statistics using `scipy`\n",
    "    * Classify data as continuous, categorical, or binary\n",
    "    * Differentiate between paired and unpaired data\n",
    "    * Apply logarithms to manipulate a distribution\n",
    "* Part 4\n",
    "    * Determine the distribution of a dataset using `scipy`\n",
    "    * Describe and justify the use of parameteric vs. non-parameteric statistics\n",
    "* Part 5\n",
    "    * Create and interpret a statistical hypothesis\n",
    "    * Given a dataset, perform and interpret correlation analysis using `scipy`\n",
    "    * Given a hypothesis and dataset, perform and interpret an appropriate statistical test using `scipy`\n",
    "    * Explain the concept of statistical significance\n",
    "* Part 6\n",
    "    * Describe and explain the purpose of effect sizes\n",
    "    * Calculate an effect size\n",
    "\n",
    "### Caveat\n",
    "\n",
    "I want to start by admitting that I am not as good at statistics as I am at Computer Science. I did distinctly *okay* in my undergraduate statistics class. I would even say that I didn't genuinely learn statistics until I got to graduate school, and had my own datasets. However, that was the turning point - I suddenly understood things so much better when I had a context I cared about. Context is key to learning - I believe statistics is very challenging for many folks because they don't see how it applies to things they are interested in.\n",
    "\n",
    "You might walk into this assignment with more statistics knowledge than me, or alternatively you might be a complete novice. Either way, I'd like to make sure everyone leaves the assignment better than they were. This will probably include me, Dr. Bart. If you identify mistakes or errors, don't be afraid to raise them up in the Discord or the Ohyay. I am only human, this assignment was created in a single day, and I don't have a huge background in statistics. Errors or even misconceptions are likely! I'd rather we all collaboratively improve, then have been right.\n",
    "\n",
    "# Part 1) Basic Statistics\n",
    "\n",
    "Watch the following video, and then answer the following questions below.\n",
    "\n",
    "<https://youtu.be/PufDBlSsqys>"
   ]
  },
  {
   "cell_type": "markdown",
   "id": "oriental-transfer",
   "metadata": {},
   "source": [
    "#### Q1.1)\n",
    "What is the difference between probablity and statistics? Define both terms clearly, especially in terms of their different goals."
   ]
  },
  {
   "cell_type": "markdown",
   "id": "wired-occasion",
   "metadata": {},
   "source": [
    "Probability is a theoretical value, while statistics deals with data gathered through experiments. Probability is calculated based on already known factors (like the number of sides on a die or known percentages of a population), while statistics is based on actual results from samples or trials. In theory, results of statistics, as more and more trials are done, should confirm calculated probabilities, or can show a deviation in the population from the expected results."
   ]
  },
  {
   "cell_type": "markdown",
   "id": "assured-stretch",
   "metadata": {},
   "source": [
    "# Part 2) Distributions\n",
    "\n",
    "#### Q2.1)\n",
    "\n",
    "In statistics, what is a \"Random Variable\"? How is it different from an Algebraic Variable or a Computer Science Variable?"
   ]
  },
  {
   "cell_type": "markdown",
   "id": "varied-rally",
   "metadata": {},
   "source": [
    "A random variable is a variable whose value comes from the outcomes of a random event. It can be used to describe either already-observed data in statistics or expected values in probability. \n",
    "In algebra or computer science, a variable simply holds a value. Random variables often reflect entire probability distributions, meaning all possible values are considered."
   ]
  },
  {
   "cell_type": "markdown",
   "id": "painted-essex",
   "metadata": {},
   "source": [
    "#### Q2.2)\n",
    "In statistics, what is a \"Probability Distribution\"?"
   ]
  },
  {
   "cell_type": "markdown",
   "id": "appointed-order",
   "metadata": {},
   "source": [
    "A probability distribution is a function showing the respective probability for each possible value of a random variable."
   ]
  },
  {
   "cell_type": "markdown",
   "id": "shaped-necessity",
   "metadata": {},
   "source": [
    "#### Q2.3)\n",
    "\n",
    "In Discrete Math, what is a \"Function\"?"
   ]
  },
  {
   "cell_type": "markdown",
   "id": "instrumental-phone",
   "metadata": {},
   "source": [
    "A function relates two sets of numbers, X to Y, in which every value in X (the domain) is mapped to a single value in Y (the co-domain)."
   ]
  },
  {
   "cell_type": "markdown",
   "id": "ignored-jewelry",
   "metadata": {},
   "source": [
    "#### Q2.4)\n",
    "\n",
    "What is the relationship between a random variable and the concept of a \"nullary function\" like the following?"
   ]
  },
  {
   "cell_type": "code",
   "execution_count": 3,
   "id": "sensitive-independence",
   "metadata": {},
   "outputs": [
    {
     "data": {
      "text/plain": [
       "[6, 6, 0, 4, 8, 7, 6, 4, 7, 5]"
      ]
     },
     "execution_count": 3,
     "metadata": {},
     "output_type": "execute_result"
    }
   ],
   "source": [
    "def X(): return random.randint(0, 10)\n",
    "\n",
    "[X() for i in range(10)]"
   ]
  },
  {
   "cell_type": "markdown",
   "id": "dominican-milton",
   "metadata": {},
   "source": [
    "A nullary function is a function that takes no arguments. In this case, it produces a random value between 0 and 10, meaning that it could be used to populate a random variable with observed values."
   ]
  },
  {
   "cell_type": "markdown",
   "id": "laughing-interview",
   "metadata": {},
   "source": [
    "#### Q2.5) \n",
    "What is the relationship between a distribution and a function?"
   ]
  },
  {
   "cell_type": "markdown",
   "id": "wireless-bailey",
   "metadata": {},
   "source": [
    "A distribution is a type of function, where a distribution's input is based on another function."
   ]
  },
  {
   "cell_type": "markdown",
   "id": "perfect-brighton",
   "metadata": {},
   "source": [
    "Watch the following video about different probability distributions:\n",
    "\n",
    "<https://youtu.be/b9a27XN_6tg>"
   ]
  },
  {
   "cell_type": "markdown",
   "id": "infinite-bradford",
   "metadata": {},
   "source": [
    "#### Q2.6)\n",
    "\n",
    "For each of the following probability distributions:\n",
    "\n",
    "1. Provide the name of the distribution\n",
    "2. Identify it as continuous, discrete, or both\n",
    "3. Provide a brief description of the distribution and what it is used for\n",
    "4. Find an example from the real world where this distribution occurs (not one presented in the video)\n",
    "5. Provide a link to the appropriate `scipy.stats` function\n",
    "6. Use the `scipy` module's distribution functions to create an visual example"
   ]
  },
  {
   "cell_type": "markdown",
   "id": "national-warren",
   "metadata": {},
   "source": [
    "##### Uniform Distribution\n",
    "\n",
    "* Description: A random variable where all of outcomes are equally likely.\n",
    "* Kind: Can be both continuous or discrete\n",
    "* Example: Rolling a fair, six-sided die.\n",
    "* Link: [Continous](https://docs.scipy.org/doc/scipy/reference/generated/scipy.stats.uniform.html#scipy.stats.uniform), [Discrete](https://docs.scipy.org/doc/scipy/reference/generated/scipy.stats.randint.html)\n"
   ]
  },
  {
   "cell_type": "code",
   "execution_count": 4,
   "id": "fleet-stewart",
   "metadata": {},
   "outputs": [
    {
     "data": {
      "image/png": "[encoded data removed]",
      "text/plain": [
       "<Figure size 432x288 with 1 Axes>"
      ]
     },
     "metadata": {
      "needs_background": "light"
     },
     "output_type": "display_data"
    }
   ],
   "source": [
    "random_variables = stats.uniform.rvs(size=10000)\n",
    "plt.hist(random_variables)\n",
    "plt.title(\"Randomly Generated Uniform Distribution\")\n",
    "plt.show()"
   ]
  },
  {
   "cell_type": "markdown",
   "id": "familiar-field",
   "metadata": {},
   "source": [
    "##### Bernouli Distribution"
   ]
  },
  {
   "cell_type": "markdown",
   "id": "growing-latex",
   "metadata": {},
   "source": [
    "- Description: A random variable where one trial of two possible outcomes is performed.\n",
    "- Kind: Discrete (exactly two results)\n",
    "- Example: Checking whether someone is medically obese or not, whether a person has a dog or not \n",
    "- Link: [Bernoulli](https://docs.scipy.org/doc/scipy/reference/generated/scipy.stats.bernoulli.html)"
   ]
  },
  {
   "cell_type": "code",
   "execution_count": 5,
   "id": "vocal-harvard",
   "metadata": {},
   "outputs": [
    {
     "data": {
      "image/png": "[encoded data removed]",
      "text/plain": [
       "<Figure size 432x288 with 1 Axes>"
      ]
     },
     "metadata": {
      "needs_background": "light"
     },
     "output_type": "display_data"
    }
   ],
   "source": [
    "random_variables = stats.bernoulli.rvs(.3, size=1000)\n",
    "plt.hist(random_variables, bins = [0,1,2])\n",
    "plt.title(\"Randomly Generated Bernoulli Distribution\")\n",
    "plt.xlabel(\"0 is failure, 1 is success\")\n",
    "plt.ylabel(\"Number of occurrences in 1000 trials\")\n",
    "plt.show()"
   ]
  },
  {
   "cell_type": "markdown",
   "id": "seven-inspiration",
   "metadata": {},
   "source": [
    "##### Binomial Distribution"
   ]
  },
  {
   "cell_type": "markdown",
   "id": "front-jenny",
   "metadata": {},
   "source": [
    "- Description: The value of the random variable is the count of \"successes\" over a certain number of independent trials, with a constant probability of the success occurring\n",
    "- Kind: Discrete (between 0 and the number of trials run)\n",
    "- Examples: The number of questions answered correctly on a multiple choice test, the number of episodes of a TV season with a certain rating or higher\n",
    "- Link: [Binomial](https://docs.scipy.org/doc/scipy/reference/generated/scipy.stats.binom.html)"
   ]
  },
  {
   "cell_type": "code",
   "execution_count": 6,
   "id": "front-abraham",
   "metadata": {},
   "outputs": [
    {
     "data": {
      "image/png": "[encoded data removed]",
      "text/plain": [
       "<Figure size 432x288 with 1 Axes>"
      ]
     },
     "metadata": {
      "needs_background": "light"
     },
     "output_type": "display_data"
    }
   ],
   "source": [
    "random_variables = stats.binom.rvs(5, 0.7, size=1000)\n",
    "plt.hist(random_variables, bins = [0,1,2,3,4,5,6])\n",
    "plt.title(\"Randomly Generated Binomial Distribution (5 trials, Success Probability 0.7)\")\n",
    "plt.xlabel(\"Number of successes\")\n",
    "plt.ylabel(\"Number of occurrences in 1000 samples\")\n",
    "plt.show()"
   ]
  },
  {
   "cell_type": "markdown",
   "id": "organic-petite",
   "metadata": {},
   "source": [
    "##### Poisson Distribution"
   ]
  },
  {
   "cell_type": "markdown",
   "id": "raising-baking",
   "metadata": {},
   "source": [
    "- Description: A random variable based on an expected number of something per interval\n",
    "- Kind: Discrete\n",
    "- Examples: Number of customers entering a store based on an average number entering in a day, number of viewers watching a TV show given an average number of viewers\n",
    "- Link: [Poisson](https://docs.scipy.org/doc/scipy/reference/generated/scipy.stats.poisson.html)"
   ]
  },
  {
   "cell_type": "code",
   "execution_count": 7,
   "id": "moving-mobility",
   "metadata": {},
   "outputs": [
    {
     "data": {
      "image/png": "[encoded data removed]",
      "text/plain": [
       "<Figure size 432x288 with 1 Axes>"
      ]
     },
     "metadata": {
      "needs_background": "light"
     },
     "output_type": "display_data"
    }
   ],
   "source": [
    "random_variables = stats.poisson.rvs(5, size=1000)\n",
    "plt.hist(random_variables, bins = [0,1,2,3,4,5,6,7,8,9,10,11,12,13,14,15,16])\n",
    "plt.title(\"Generated Poisson Distribution with expected number (mu) 5\")\n",
    "plt.ylabel(\"Number of occurrences in 1000 samples\")\n",
    "plt.show()"
   ]
  },
  {
   "cell_type": "markdown",
   "id": "flexible-excitement",
   "metadata": {},
   "source": [
    "##### Normal Distribution"
   ]
  },
  {
   "cell_type": "markdown",
   "id": "severe-tournament",
   "metadata": {},
   "source": [
    "- Description: A random variable that follows a symmetric, bell-curved shape, with certain percentages certain distances (based on standard deviation) from the mean\n",
    "- Kind: Continuous\n",
    "- Examples: Human skull circumferences, weights of babies, heights\n",
    "- Link: [Normal](https://docs.scipy.org/doc/scipy/reference/generated/scipy.stats.norm.html)"
   ]
  },
  {
   "cell_type": "code",
   "execution_count": 13,
   "id": "ordered-dutch",
   "metadata": {},
   "outputs": [
    {
     "data": {
      "image/png": "[encoded data removed]",
      "text/plain": [
       "<Figure size 432x288 with 1 Axes>"
      ]
     },
     "metadata": {
      "needs_background": "light"
     },
     "output_type": "display_data"
    }
   ],
   "source": [
    "random_variables = stats.norm.rvs(size=1000)\n",
    "plt.hist(random_variables, bins = [-4,-3,-2,-1,0,1,2,3,4])\n",
    "plt.title(\"Randomly Generated Normal Distrbution (mean 0, standard dev 1)\")\n",
    "plt.ylabel(\"Number of occurrences in 1000 samples\")\n",
    "plt.show()"
   ]
  },
  {
   "cell_type": "markdown",
   "id": "valid-sapphire",
   "metadata": {},
   "source": [
    "##### Student's T Distribution"
   ]
  },
  {
   "cell_type": "markdown",
   "id": "composed-keeping",
   "metadata": {},
   "source": [
    "- Description: a normal-ish shaped distribution with more values in the tails used to compensate for a smaller sample size\n",
    "- Kind: Continuous\n",
    "- Examples: Human skull circumferences except only a sample size of 15\n",
    "- Link: [T-Distribution](https://docs.scipy.org/doc/scipy/reference/generated/scipy.stats.t.html)"
   ]
  },
  {
   "cell_type": "code",
   "execution_count": 15,
   "id": "initial-chick",
   "metadata": {},
   "outputs": [
    {
     "data": {
      "image/png": "[encoded data removed]",
      "text/plain": [
       "<Figure size 432x288 with 1 Axes>"
      ]
     },
     "metadata": {
      "needs_background": "light"
     },
     "output_type": "display_data"
    }
   ],
   "source": [
    "random_variables = stats.t.rvs(3, size=1000)\n",
    "plt.hist(random_variables, bins = [-5,-4,-3,-2,-1,0,1,2,3,4,5])\n",
    "plt.title(\"Randomly Generated t-Distribution with 3 degrees of freedom\")\n",
    "plt.ylabel(\"Number of occurrences in 1000 samples\")\n",
    "plt.show()"
   ]
  },
  {
   "cell_type": "markdown",
   "id": "intermediate-mining",
   "metadata": {},
   "source": [
    "##### Chi-Squared Distribution"
   ]
  },
  {
   "cell_type": "markdown",
   "id": "resistant-keeping",
   "metadata": {},
   "source": [
    "- Description: An asymmetric, positive distribution that is often skewed left and is used in hypothesis testing\n",
    "- Kind: Continuous\n",
    "- Example: Indentifying if there's a statistically significant difference between the number of people multiple categories, like gender vs. political party\n",
    "- Link: [Chi-Squared](https://docs.scipy.org/doc/scipy/reference/generated/scipy.stats.chi2.html)"
   ]
  },
  {
   "cell_type": "code",
   "execution_count": 19,
   "id": "sudden-tunisia",
   "metadata": {},
   "outputs": [
    {
     "data": {
      "image/png": "[encoded data removed]",
      "text/plain": [
       "<Figure size 432x288 with 1 Axes>"
      ]
     },
     "metadata": {
      "needs_background": "light"
     },
     "output_type": "display_data"
    }
   ],
   "source": [
    "random_variables = stats.chi2.rvs(3, size=1000)\n",
    "plt.hist(random_variables, bins = [0,1,2,3,4,5,6,7,8,9,10,11,12,13,14,15])\n",
    "plt.title(\"Randomly Generated Chi-Squared with 3 degrees of freedom\")\n",
    "plt.ylabel(\"Number of occurrences in 1000 samples\")\n",
    "plt.show()"
   ]
  },
  {
   "cell_type": "markdown",
   "id": "occupied-commander",
   "metadata": {},
   "source": [
    "##### Exponential Distribution"
   ]
  },
  {
   "cell_type": "markdown",
   "id": "level-protocol",
   "metadata": {},
   "source": [
    "- Description: A skewed left distribution where events are rapidly changing early on before the change slows down\n",
    "- Kind: Continuous\n",
    "- Example: Number of likes on a Facebook post, number of people who show up to an event (many on time vs. people trickling in)\n",
    "- Link: [Exponential](https://docs.scipy.org/doc/scipy/reference/generated/scipy.stats.expon.html)"
   ]
  },
  {
   "cell_type": "code",
   "execution_count": 24,
   "id": "accepting-washer",
   "metadata": {},
   "outputs": [
    {
     "data": {
      "image/png": "[encoded data removed]",
      "text/plain": [
       "<Figure size 432x288 with 1 Axes>"
      ]
     },
     "metadata": {
      "needs_background": "light"
     },
     "output_type": "display_data"
    }
   ],
   "source": [
    "random_variables = stats.expon.rvs(size=1000)\n",
    "plt.hist(random_variables, bins = [0,1,2,3,4,5,6,7,8,9])\n",
    "plt.title(\"Randomly Generated Expontential Distribution\")\n",
    "plt.ylabel(\"Number of occurrences in 1000 samples\")\n",
    "plt.show()"
   ]
  },
  {
   "cell_type": "markdown",
   "id": "inner-microwave",
   "metadata": {},
   "source": [
    "##### Logistic Distribution"
   ]
  },
  {
   "cell_type": "markdown",
   "id": "informal-twins",
   "metadata": {},
   "source": [
    "- Description: A distribution often used for regression where as the value increases infinitely, cumulative likelihood increases but is never 100%\n",
    "- Kind: Continuous\n",
    "- Example: Likelihood a student gets accepted to a college based on their SAT score\n",
    "- Link: [Logistic](https://docs.scipy.org/doc/scipy/reference/generated/scipy.stats.logistic.html)"
   ]
  },
  {
   "cell_type": "code",
   "execution_count": 29,
   "id": "little-mirror",
   "metadata": {},
   "outputs": [
    {
     "data": {
      "image/png": "[encoded data removed]",
      "text/plain": [
       "<Figure size 432x288 with 1 Axes>"
      ]
     },
     "metadata": {
      "needs_background": "light"
     },
     "output_type": "display_data"
    }
   ],
   "source": [
    "random_variables = stats.logistic.rvs(size=1000)\n",
    "plt.hist(random_variables, bins = [-7,-6,-5,-4,-3,-2,-1,0,1,2,3,4,5,6,7])\n",
    "plt.title(\"Randomly Generated Logistic Distribution\")\n",
    "plt.ylabel(\"Number of occurrences in 1000 samples\")\n",
    "plt.show()"
   ]
  },
  {
   "cell_type": "markdown",
   "id": "sitting-burke",
   "metadata": {},
   "source": [
    "# Part 3) Summary Stats\n",
    "\n",
    "For this section, you will need to use Google and ask questions."
   ]
  },
  {
   "cell_type": "markdown",
   "id": "surprising-complement",
   "metadata": {},
   "source": [
    "#### Q3.1)\n",
    "When should you use mean vs. median?"
   ]
  },
  {
   "cell_type": "markdown",
   "id": "intellectual-vision",
   "metadata": {},
   "source": [
    "Mean is a better measure for normal datasets with few outliers, while median is a better measure for heavily skewed distributions or distributions with significant outliers. This is because the median is not sensitive to the severity of extreme points. For example, if a dataset has all values 1-10 and one point with value 100, that 100 will increase the mean, but not the median."
   ]
  },
  {
   "cell_type": "markdown",
   "id": "bibliographic-interface",
   "metadata": {},
   "source": [
    "#### Q3.2)\n",
    "What is the standard deviation and variance?"
   ]
  },
  {
   "cell_type": "markdown",
   "id": "sized-armenia",
   "metadata": {},
   "source": [
    "Variance is the average squared difference between each point and the mean, and standard deviation is the square root of variance. They are used to measure the spread of the data."
   ]
  },
  {
   "cell_type": "markdown",
   "id": "structured-storage",
   "metadata": {},
   "source": [
    "#### Q3.3)\n",
    "\n",
    "Describe the tradeoffs between providing the standard deviation/variance vs. the 5-number summary. "
   ]
  },
  {
   "cell_type": "markdown",
   "id": "ideal-making",
   "metadata": {},
   "source": [
    "The standard deviation/variance provide more information more quickly, as it summarizes the spread of the data with just one number, as opposed to having to consider multiple numbers in context. However, since standard deviation and variance exclusively show the average of the differences, it does not show the presence or direction of any skew or outliers in the distribution like a 5 number summary could."
   ]
  },
  {
   "cell_type": "markdown",
   "id": "vocal-synthetic",
   "metadata": {},
   "source": [
    "#### Q3.4)\n",
    "\n",
    "What is skew? Can a skewed dataset still be normally distributed?"
   ]
  },
  {
   "cell_type": "markdown",
   "id": "moral-stretch",
   "metadata": {},
   "source": [
    "Skew is a description of the asymmetry of the data. Skewed data is often described to have a \"tail\" of less dense values on one side. No, skewed data cannot be normally distributed, as normally distributed data is generally symmetrical."
   ]
  },
  {
   "cell_type": "markdown",
   "id": "developed-recovery",
   "metadata": {},
   "source": [
    "#### Q3.5)\n",
    "What is a frequency table? How is it useful for describing data?"
   ]
  },
  {
   "cell_type": "markdown",
   "id": "affiliated-knowing",
   "metadata": {},
   "source": [
    "A frequency table is a way to represent data, where all values of the variable are listed (either in ranges or single values) alongside the number of times those values occurred. While frequency tables are very specific, showing the exact frequency, a histogram shows basically the same thing with the added visual component of a graph."
   ]
  },
  {
   "cell_type": "markdown",
   "id": "subject-addiction",
   "metadata": {},
   "source": [
    "#### Q3.6)\n",
    "\n",
    "Observe the data shown below and classify each column shown below as either: nominal, binary, ordinal, or quantitative."
   ]
  },
  {
   "cell_type": "code",
   "execution_count": 30,
   "id": "annual-saint",
   "metadata": {},
   "outputs": [
    {
     "data": {
      "text/html": [
       "<div>\n",
       "<style scoped>\n",
       "    .dataframe tbody tr th:only-of-type {\n",
       "        vertical-align: middle;\n",
       "    }\n",
       "\n",
       "    .dataframe tbody tr th {\n",
       "        vertical-align: top;\n",
       "    }\n",
       "\n",
       "    .dataframe thead th {\n",
       "        text-align: right;\n",
       "    }\n",
       "</style>\n",
       "<table border=\"1\" class=\"dataframe\">\n",
       "  <thead>\n",
       "    <tr style=\"text-align: right;\">\n",
       "      <th></th>\n",
       "      <th>id</th>\n",
       "      <th>material</th>\n",
       "      <th>name</th>\n",
       "      <th>development.phase</th>\n",
       "      <th>location.city</th>\n",
       "      <th>location.latitude</th>\n",
       "      <th>location.longitude</th>\n",
       "      <th>statistics.height</th>\n",
       "      <th>tall?</th>\n",
       "    </tr>\n",
       "  </thead>\n",
       "  <tbody>\n",
       "    <tr>\n",
       "      <th>0</th>\n",
       "      <td>12</td>\n",
       "      <td>steel</td>\n",
       "      <td>The Illinois</td>\n",
       "      <td>1</td>\n",
       "      <td>Chicago</td>\n",
       "      <td>0.000000</td>\n",
       "      <td>0.000000</td>\n",
       "      <td>1609.359985</td>\n",
       "      <td>True</td>\n",
       "    </tr>\n",
       "    <tr>\n",
       "      <th>1</th>\n",
       "      <td>62</td>\n",
       "      <td>composite</td>\n",
       "      <td>Chicago Spire</td>\n",
       "      <td>2</td>\n",
       "      <td>Chicago</td>\n",
       "      <td>41.889889</td>\n",
       "      <td>-87.614861</td>\n",
       "      <td>609.599976</td>\n",
       "      <td>True</td>\n",
       "    </tr>\n",
       "    <tr>\n",
       "      <th>2</th>\n",
       "      <td>68</td>\n",
       "      <td>composite</td>\n",
       "      <td>Miglin-Beitler Skyneedle</td>\n",
       "      <td>1</td>\n",
       "      <td>Chicago</td>\n",
       "      <td>41.881618</td>\n",
       "      <td>-87.634354</td>\n",
       "      <td>609.489990</td>\n",
       "      <td>True</td>\n",
       "    </tr>\n",
       "    <tr>\n",
       "      <th>3</th>\n",
       "      <td>98</td>\n",
       "      <td>composite</td>\n",
       "      <td>One World Trade Center</td>\n",
       "      <td>3</td>\n",
       "      <td>New York City</td>\n",
       "      <td>40.713112</td>\n",
       "      <td>-74.013351</td>\n",
       "      <td>541.299988</td>\n",
       "      <td>True</td>\n",
       "    </tr>\n",
       "    <tr>\n",
       "      <th>4</th>\n",
       "      <td>14269</td>\n",
       "      <td>concrete</td>\n",
       "      <td>Central Park Tower</td>\n",
       "      <td>2</td>\n",
       "      <td>New York City</td>\n",
       "      <td>40.766361</td>\n",
       "      <td>-73.980949</td>\n",
       "      <td>541.020020</td>\n",
       "      <td>True</td>\n",
       "    </tr>\n",
       "  </tbody>\n",
       "</table>\n",
       "</div>"
      ],
      "text/plain": [
       "      id   material                      name  development.phase  \\\n",
       "0     12      steel              The Illinois                  1   \n",
       "1     62  composite             Chicago Spire                  2   \n",
       "2     68  composite  Miglin-Beitler Skyneedle                  1   \n",
       "3     98  composite    One World Trade Center                  3   \n",
       "4  14269   concrete        Central Park Tower                  2   \n",
       "\n",
       "   location.city  location.latitude  location.longitude  statistics.height  \\\n",
       "0        Chicago           0.000000            0.000000        1609.359985   \n",
       "1        Chicago          41.889889          -87.614861         609.599976   \n",
       "2        Chicago          41.881618          -87.634354         609.489990   \n",
       "3  New York City          40.713112          -74.013351         541.299988   \n",
       "4  New York City          40.766361          -73.980949         541.020020   \n",
       "\n",
       "   tall?  \n",
       "0   True  \n",
       "1   True  \n",
       "2   True  \n",
       "3   True  \n",
       "4   True  "
      ]
     },
     "execution_count": 30,
     "metadata": {},
     "output_type": "execute_result"
    }
   ],
   "source": [
    "skyscrapers_full = pd.read_csv(\"https://corgis-edu.github.io/corgis/datasets/csv/skyscrapers/skyscrapers.csv\")\n",
    "# You can ignore how we calculate the fields, though it might help you understand it better\n",
    "skyscrapers_full['tall?'] = skyscrapers_full['statistics.height'] > 100\n",
    "skyscrapers_full['development.phase'] = skyscrapers_full['status.current'].map(lambda s: 3 if s in ('completed', 'demolished')\n",
    "                                                                                         else 1 if s in ('proposed', 'vision')\n",
    "                                                                                         else 2)\n",
    "skyscrapers = skyscrapers_full[['id', 'material', 'name', 'development.phase',\n",
    "                                'location.city', 'location.latitude', 'location.longitude',\n",
    "                                'statistics.height', 'tall?']]\n",
    "skyscrapers.head()"
   ]
  },
  {
   "cell_type": "markdown",
   "id": "impressed-turning",
   "metadata": {},
   "source": [
    "* `id`: Nominal\n",
    "* `material`: Nominal\n",
    "* `name`: Nominal\n",
    "* `development.phase`: Ordinal \n",
    "* `location.city`: Nominal\n",
    "* `location.latitude`: Quantitative\n",
    "* `location.longitude`: Quantitative\n",
    "* `statistics.height`: Quantitative\n",
    "* `tall?`: Binary"
   ]
  },
  {
   "cell_type": "markdown",
   "id": "handed-spider",
   "metadata": {},
   "source": [
    "#### Q3.7)\n",
    "\n",
    "For each column in the dataset above, provide appropriate summary statistics in whatever way makes the most sense to concisely describe the data."
   ]
  },
  {
   "cell_type": "code",
   "execution_count": 60,
   "id": "altered-ebony",
   "metadata": {},
   "outputs": [
    {
     "name": "stdout",
     "output_type": "stream",
     "text": [
      "ID:\n",
      "\tThis nominal variable has integer values between the following: \n",
      "\tMinimum:12\n",
      "\tMaximum:24079\n",
      "\n",
      "Material:\n",
      "This nominal variable has the following counts of values: \n"
     ]
    },
    {
     "data": {
      "text/plain": [
       "concrete          1366\n",
       "steel              875\n",
       "composite          123\n",
       "steel/concrete      33\n",
       "concrete/steel      22\n",
       "masonry              9\n",
       "precast              3\n",
       "Name: material, dtype: int64"
      ]
     },
     "metadata": {},
     "output_type": "display_data"
    },
    {
     "name": "stdout",
     "output_type": "stream",
     "text": [
      "\n",
      "Name:\n",
      "This nominal variable provides the name for each of the skyscrapers. From the following, we can see that most (but not all) are unique:\n",
      "Number of unique values: 2356\n",
      "Number of skyscrapers listed: 2431\n",
      "\n",
      "Development Phase:\n",
      "This ordinal variable represents the phase of development the skyscraper is currently in, where 1 is pre-construction, 2 is during construction, and 3 is complete or demolished.\n"
     ]
    },
    {
     "data": {
      "text/plain": [
       "1     115\n",
       "2     200\n",
       "3    2116\n",
       "Name: development.phase, dtype: int64"
      ]
     },
     "metadata": {},
     "output_type": "display_data"
    },
    {
     "name": "stdout",
     "output_type": "stream",
     "text": [
      "\n",
      "Location (City):\n",
      "This nominal variable contains the city of the skyscraper.\n",
      "There are this many unqiue cities: \n",
      "160\n",
      "Here are the cities the the most and least skyscrapers on the list\n",
      "New York City      640\n",
      "Chicago            419\n",
      "Miami              130\n",
      "Houston             68\n",
      "San Francisco       68\n",
      "                  ... \n",
      "West Sacramento      1\n",
      "Marco Island         1\n",
      "McAllen              1\n",
      "Waco                 1\n",
      "Fargo                1\n",
      "Name: location.city, Length: 160, dtype: int64\n",
      "\n",
      "Location (Latitude):\n",
      "This quantitative variable gives the latitude of the skyscraper.\n"
     ]
    },
    {
     "data": {
      "text/plain": [
       "count    2431.000000\n",
       "mean       36.971992\n",
       "std         8.705251\n",
       "min         0.000000\n",
       "25%        34.051241\n",
       "50%        40.724869\n",
       "75%        41.876270\n",
       "max        61.215210\n",
       "Name: location.latitude, dtype: float64"
      ]
     },
     "metadata": {},
     "output_type": "display_data"
    },
    {
     "data": {
      "image/png": "[encoded data removed]",
      "text/plain": [
       "<Figure size 432x288 with 1 Axes>"
      ]
     },
     "metadata": {
      "needs_background": "light"
     },
     "output_type": "display_data"
    },
    {
     "name": "stdout",
     "output_type": "stream",
     "text": [
      "\n",
      "Location (Longitude):\n",
      "This quantitative variable gives the longitude of the skyscraper.\n"
     ]
    },
    {
     "data": {
      "text/plain": [
       "count    2431.000000\n",
       "mean      -86.321463\n",
       "std        23.685243\n",
       "min      -157.980072\n",
       "25%       -92.464108\n",
       "50%       -83.045433\n",
       "75%       -73.994576\n",
       "max         0.000000\n",
       "Name: location.longitude, dtype: float64"
      ]
     },
     "metadata": {},
     "output_type": "display_data"
    },
    {
     "data": {
      "image/png": "[encoded data removed]",
      "text/plain": [
       "<Figure size 432x288 with 1 Axes>"
      ]
     },
     "metadata": {
      "needs_background": "light"
     },
     "output_type": "display_data"
    },
    {
     "name": "stdout",
     "output_type": "stream",
     "text": [
      "\n",
      "Height:\n",
      "This quantitative variable gives the height of the skyscraper.\n"
     ]
    },
    {
     "data": {
      "text/plain": [
       "count    2431.000000\n",
       "mean      132.445401\n",
       "std        67.825184\n",
       "min         0.000000\n",
       "25%        99.000000\n",
       "50%       124.000000\n",
       "75%       156.970001\n",
       "max      1609.359985\n",
       "Name: statistics.height, dtype: float64"
      ]
     },
     "metadata": {},
     "output_type": "display_data"
    },
    {
     "data": {
      "image/png": "[encoded data removed]",
      "text/plain": [
       "<Figure size 432x288 with 1 Axes>"
      ]
     },
     "metadata": {
      "needs_background": "light"
     },
     "output_type": "display_data"
    },
    {
     "name": "stdout",
     "output_type": "stream",
     "text": [
      "\n",
      "Tall Buildings:\n",
      "This binary variable represents whether a building is tall or not.\n"
     ]
    },
    {
     "data": {
      "text/plain": [
       "True     1790\n",
       "False     641\n",
       "Name: tall?, dtype: int64"
      ]
     },
     "metadata": {},
     "output_type": "display_data"
    }
   ],
   "source": [
    "print(\"ID:\")\n",
    "print(\"\\tThis nominal variable has integer values between the following: \")\n",
    "print(\"\\tMinimum:\" + str(skyscrapers['id'].min()))\n",
    "print(\"\\tMaximum:\" + str(skyscrapers['id'].max())+\"\\n\")\n",
    "\n",
    "print(\"Material:\")\n",
    "print(\"This nominal variable has the following counts of values: \")\n",
    "display(skyscrapers['material'].value_counts())\n",
    "print()\n",
    "\n",
    "print(\"Name:\")\n",
    "print(\"This nominal variable provides the name for each of the skyscrapers. From the following, we can see that most (but not all) are unique:\")\n",
    "print(\"Number of unique values: \" + str(skyscrapers['name'].nunique()))\n",
    "print(\"Number of skyscrapers listed: \" + str(len(skyscrapers)))\n",
    "print()\n",
    "\n",
    "print(\"Development Phase:\")\n",
    "print(\"This ordinal variable represents the phase of development the skyscraper is currently in, where 1 is pre-construction, 2 is during construction, and 3 is complete or demolished.\")\n",
    "display(skyscrapers['development.phase'].value_counts().sort_values())\n",
    "print()\n",
    "\n",
    "print(\"Location (City):\")\n",
    "print(\"This nominal variable contains the city of the skyscraper.\")\n",
    "print(\"There are this many unqiue cities: \")\n",
    "print(skyscrapers['location.city'].nunique());\n",
    "print(\"Here are the cities the the most and least skyscrapers on the list\")\n",
    "print(skyscrapers['location.city'].value_counts())\n",
    "print()\n",
    "\n",
    "print(\"Location (Latitude):\")\n",
    "print(\"This quantitative variable gives the latitude of the skyscraper.\")\n",
    "display(skyscrapers['location.latitude'].describe())\n",
    "plt.hist(skyscrapers['location.latitude'])\n",
    "plt.title(\"Skyscrapers by Latitude\")\n",
    "plt.xlabel(\"Latitude\")\n",
    "plt.ylabel(\"Number of Skyscrapers\")\n",
    "plt.show()\n",
    "print()\n",
    "\n",
    "print(\"Location (Longitude):\")\n",
    "print(\"This quantitative variable gives the longitude of the skyscraper.\")\n",
    "display(skyscrapers['location.longitude'].describe())\n",
    "plt.hist(skyscrapers['location.longitude'])\n",
    "plt.title(\"Skyscrapers by Longitude\")\n",
    "plt.xlabel(\"Longitude\")\n",
    "plt.ylabel(\"Number of Skyscrapers\")\n",
    "plt.show()\n",
    "print()\n",
    "\n",
    "print(\"Height:\")\n",
    "print(\"This quantitative variable gives the height of the skyscraper.\")\n",
    "display(skyscrapers['statistics.height'].describe())\n",
    "plt.hist(skyscrapers['statistics.height'])\n",
    "plt.title(\"Skyscrapers by Height\")\n",
    "plt.xlabel(\"Height\")\n",
    "plt.ylabel(\"Number of Skyscrapers\")\n",
    "plt.show()\n",
    "print()\n",
    "\n",
    "print(\"Tall Buildings:\")\n",
    "print(\"This binary variable represents whether a building is tall or not.\")\n",
    "display(skyscrapers[\"tall?\"].value_counts())"
   ]
  },
  {
   "cell_type": "markdown",
   "id": "innocent-abortion",
   "metadata": {},
   "source": [
    "#### Q3.8)\n",
    "\n",
    "Classify each of the following scenarios as \"paired\" or \"unpaired\" data.\n",
    "\n",
    "1. We draw two random samples from the complete set of skyscrapers. Both samples have 100 skyscrapers."
   ]
  },
  {
   "cell_type": "markdown",
   "id": "promising-staff",
   "metadata": {},
   "source": [
    "Unpaired"
   ]
  },
  {
   "cell_type": "markdown",
   "id": "maritime-thanksgiving",
   "metadata": {},
   "source": [
    "2. We collect a new version of the dataset, updating the `\"development.phase\"` value in order to compare it to the old value."
   ]
  },
  {
   "cell_type": "markdown",
   "id": "latin-browse",
   "metadata": {},
   "source": [
    "Paired"
   ]
  },
  {
   "cell_type": "markdown",
   "id": "funny-exception",
   "metadata": {},
   "source": [
    "3. We collect data about the architectures of each building, in order to see if there a relationship between the builder's age and the height of the building."
   ]
  },
  {
   "cell_type": "markdown",
   "id": "modular-cleveland",
   "metadata": {},
   "source": [
    "Paired"
   ]
  },
  {
   "cell_type": "markdown",
   "id": "naughty-psychiatry",
   "metadata": {},
   "source": [
    "# Part 4) Normality Checks"
   ]
  },
  {
   "cell_type": "markdown",
   "id": "superior-broad",
   "metadata": {},
   "source": [
    "Read the following page about normality tests:\n",
    "\n",
    "https://machinelearningmastery.com/a-gentle-introduction-to-normality-tests-in-python/\n"
   ]
  },
  {
   "cell_type": "markdown",
   "id": "mental-street",
   "metadata": {},
   "source": [
    "#### Q4.1)\n",
    "\n",
    "Some skyscrapers are much taller than most skyscrapers. Demonstrate this by creating a Histogram of that data."
   ]
  },
  {
   "cell_type": "code",
   "execution_count": 92,
   "id": "hazardous-michigan",
   "metadata": {},
   "outputs": [
    {
     "data": {
      "image/png": "[encoded data removed]",
      "text/plain": [
       "<Figure size 600x500 with 1 Axes>"
      ]
     },
     "metadata": {
      "needs_background": "light"
     },
     "output_type": "display_data"
    }
   ],
   "source": [
    "heights = skyscrapers['statistics.height']\n",
    "binwidth = 100\n",
    "plt.hist(heights, bins = range(int(heights.min()), int(heights.max()) + binwidth, binwidth))\n",
    "plt.rcParams['figure.figsize'] = [6, 5]\n",
    "plt.title(\"Heights of Skyscrapers\")\n",
    "plt.xlabel(\"Height\")\n",
    "plt.ylabel(\"Number of skyscrapers\")\n",
    "plt.show()"
   ]
  },
  {
   "cell_type": "markdown",
   "id": "essential-newcastle",
   "metadata": {},
   "source": [
    "#### Q4.2)\n",
    "\n",
    "Logarithmic transformations are often used in situations like this to make the visualizations easier to read.\n",
    "Why?"
   ]
  },
  {
   "cell_type": "markdown",
   "id": "mental-sally",
   "metadata": {},
   "source": [
    "Without a transformation, one of two situations happens:\n",
    "1. Most of the values are clumped into a few bins on the left, preventing much differentiation between them from being known.\n",
    "2. Your histogram is just.... obscenely wide with many empty bins.\n",
    "\n",
    "Instead, a logarithmic tranformation allows for more differently valued bins that still have values."
   ]
  },
  {
   "cell_type": "markdown",
   "id": "disturbed-blame",
   "metadata": {},
   "source": [
    "#### Q4.3)\n",
    "\n",
    "Create a new version of your visualization that is log transformed, by manipulating the data.\n",
    "\n",
    "Hints:\n",
    "* You might find it helpful to increase the number of bins in the final version to produce a nicer looking graph.\n",
    "* Some of the data is dirty - remove zeroes!"
   ]
  },
  {
   "cell_type": "code",
   "execution_count": 93,
   "id": "funky-negative",
   "metadata": {
    "tags": []
   },
   "outputs": [
    {
     "data": {
      "text/plain": [
       "<AxesSubplot:>"
      ]
     },
     "execution_count": 93,
     "metadata": {},
     "output_type": "execute_result"
    },
    {
     "data": {
      "image/png": "[encoded data removed]",
      "text/plain": [
       "<Figure size 600x500 with 1 Axes>"
      ]
     },
     "metadata": {
      "needs_background": "light"
     },
     "output_type": "display_data"
    }
   ],
   "source": [
    "log_heights = heights[heights != 0]\n",
    "log_heights = log_heights.apply(np.log)\n",
    "log_heights.hist(bins = 14)"
   ]
  },
  {
   "cell_type": "markdown",
   "id": "isolated-discussion",
   "metadata": {},
   "source": [
    "#### Q4.4)\n",
    "\n",
    "We wish to know if the data is now normally distributed. You can use a Shapiro Wilks test in `scipy.stats` to determine if a distribution is normal. This is demonstrated below."
   ]
  },
  {
   "cell_type": "code",
   "execution_count": 125,
   "id": "threatened-council",
   "metadata": {},
   "outputs": [
    {
     "data": {
      "image/png": "[encoded data removed]",
      "text/plain": [
       "<Figure size 432x288 with 1 Axes>"
      ]
     },
     "metadata": {
      "needs_background": "light"
     },
     "output_type": "display_data"
    },
    {
     "name": "stdout",
     "output_type": "stream",
     "text": [
      "Normally Distributed Values: 0.9873840808868408 0.4639612138271332 False\n",
      "Since the pvalue is greater than 0.05, we accept the null hypothesis that it is normally distributed.\n"
     ]
    },
    {
     "data": {
      "image/png": "[encoded data removed]",
      "text/plain": [
       "<Figure size 432x288 with 1 Axes>"
      ]
     },
     "metadata": {
      "needs_background": "light"
     },
     "output_type": "display_data"
    },
    {
     "name": "stdout",
     "output_type": "stream",
     "text": [
      "Random Values: 0.9455756545066833 0.0004289667122066021 True\n",
      "Since the pvalue is less than 0.05, we reject the null hypothesis that it is normally distributed.\n"
     ]
    }
   ],
   "source": [
    "# Mean of 50, standard deviation of 10, create 100 numbers\n",
    "normal_values = stats.norm.rvs(loc=50, scale=10, size=100)\n",
    "plt.hist(normal_values)\n",
    "plt.title(\"Normal Distribution with Mean of 50\")\n",
    "plt.ylabel(\"Frequency\")\n",
    "plt.show()\n",
    "\n",
    "test_statistic, p_value = stats.shapiro(normal_values)\n",
    "print(\"Normally Distributed Values:\", test_statistic, p_value, p_value < .05)\n",
    "print(\"Since the pvalue is greater than 0.05, we accept the null hypothesis that it is normally distributed.\")\n",
    "\n",
    "# Mean of 50, standard deviation of 10, create 100 numbers\n",
    "normal_values = stats.randint.rvs(low=0, high=100, size=100)\n",
    "plt.hist(normal_values)\n",
    "plt.title(\"Random Distribution\")\n",
    "plt.ylabel(\"Frequency\")\n",
    "plt.show()\n",
    "\n",
    "test_statistic, p_value = stats.shapiro(normal_values)\n",
    "print(\"Random Values:\", test_statistic, p_value, p_value < .05)\n",
    "print(\"Since the pvalue is less than 0.05, we reject the null hypothesis that it is normally distributed.\")"
   ]
  },
  {
   "cell_type": "markdown",
   "id": "fifteen-journey",
   "metadata": {},
   "source": [
    "Building off our example, determine if:\n",
    "\n",
    "1. The original untransformed heights follow a normal distribution.\n",
    "2. The log-transformed heights follow a normal distribution.\n",
    "\n",
    "Be sure to use an appropriate test."
   ]
  },
  {
   "cell_type": "code",
   "execution_count": 98,
   "id": "paperback-welsh",
   "metadata": {},
   "outputs": [
    {
     "name": "stdout",
     "output_type": "stream",
     "text": [
      "Heights:  0.7651559710502625 0.0 True\n",
      "Since the pvalue is less than 5%, we can accept the null hypothesis that the data is normally distributed.\n",
      "Log Heights:  0.9857640862464905 1.4447437793633708e-14 True\n",
      "Since the pvalue is less than 5%, we can still accept the null hypothesis that the data is normally distributed.\n"
     ]
    }
   ],
   "source": [
    "# original heights\n",
    "test_statistic, p_value = stats.shapiro(heights)\n",
    "print(\"Heights: \", test_statistic, p_value, p_value < 0.05)\n",
    "print(\"Since the pvalue is less than 5%, we can accept the null hypothesis that the data is normally distributed.\")\n",
    "\n",
    "# log heights\n",
    "test_statistic, p_value = stats.shapiro(log_heights)\n",
    "print(\"Log Heights: \", test_statistic, p_value, p_value < 0.05)\n",
    "print(\"Since the pvalue is less than 5%, we can still accept the null hypothesis that the data is normally distributed.\")"
   ]
  },
  {
   "cell_type": "markdown",
   "id": "necessary-police",
   "metadata": {},
   "source": [
    "#### Q4.5)\n",
    "\n",
    "Would it be appropriate to use parameteric statistics on this data?"
   ]
  },
  {
   "cell_type": "markdown",
   "id": "secret-webcam",
   "metadata": {},
   "source": [
    "While we technically could use parametric statistics on this data, it is unnecessary. Since the data is \"normal enough,\" according to the test results, we can simply use tests designed for normal data instead of having to go through using parametric statistics."
   ]
  },
  {
   "cell_type": "markdown",
   "id": "differential-carry",
   "metadata": {},
   "source": [
    "# Part 5) Correlation Analysis\n",
    "\n",
    "Read over the following page: https://www.ncbi.nlm.nih.gov/pmc/articles/PMC2996580/"
   ]
  },
  {
   "cell_type": "markdown",
   "id": "exempt-feature",
   "metadata": {},
   "source": [
    "#### Q5.1)\n",
    "\n",
    "In your own words, define the following terms:\n",
    "\n",
    "1) Hypothesis"
   ]
  },
  {
   "cell_type": "markdown",
   "id": "rotary-argument",
   "metadata": {},
   "source": []
  },
  {
   "cell_type": "markdown",
   "id": "respected-chocolate",
   "metadata": {},
   "source": [
    "2) Hypothesis Test"
   ]
  },
  {
   "cell_type": "markdown",
   "id": "public-defeat",
   "metadata": {},
   "source": []
  },
  {
   "cell_type": "markdown",
   "id": "settled-smart",
   "metadata": {},
   "source": [
    "3) P-value"
   ]
  },
  {
   "cell_type": "markdown",
   "id": "banner-football",
   "metadata": {},
   "source": []
  },
  {
   "cell_type": "markdown",
   "id": "above-contribution",
   "metadata": {},
   "source": [
    "4) Null Hypothesis"
   ]
  },
  {
   "cell_type": "markdown",
   "id": "exotic-professor",
   "metadata": {},
   "source": []
  },
  {
   "cell_type": "markdown",
   "id": "adjusted-greensboro",
   "metadata": {},
   "source": [
    "5. \"Approaching Significance\" (read over [this webpage](https://mchankins.wordpress.com/2013/04/21/still-not-significant-2/))"
   ]
  },
  {
   "cell_type": "markdown",
   "id": "adopted-junior",
   "metadata": {},
   "source": []
  },
  {
   "cell_type": "markdown",
   "id": "ready-message",
   "metadata": {},
   "source": [
    "#### Q5.2)\n",
    "\n",
    "Make a list of all the criteria you should consider when choosing an appropriate statistical test.\n",
    "Additionally, embed a flowchart that can help visually demonstrate the critiera you should use."
   ]
  },
  {
   "cell_type": "markdown",
   "id": "material-tender",
   "metadata": {},
   "source": [
    "1. \n",
    "2.\n",
    "3.\n",
    "\n",
    "..."
   ]
  },
  {
   "cell_type": "markdown",
   "id": "parliamentary-oakland",
   "metadata": {},
   "source": [
    "#### Q5.3)\n",
    "\n",
    "For each of the following statistical test functions from `scipy`, provide the following information:\n",
    "\n",
    "* Function: The name of the function in Scipy\n",
    "* Link: The URL to the documentation of the test.\n",
    "* Test: A more human-readable name of the test\n",
    "* Description: A quick one-sentence description of the test indicating clearly what it is used for\n",
    "* Assumptions: A list of any assumptions made by the test.\n",
    "* Example: An example of how you might use this test"
   ]
  },
  {
   "cell_type": "markdown",
   "id": "raising-costume",
   "metadata": {},
   "source": [
    "##### f_oneway\n",
    "\n",
    "* Function: `f_oneway`\n",
    "* Link: https://docs.scipy.org/doc/scipy/reference/generated/scipy.stats.f_oneway.html\n",
    "* Test: One-way ANOVA\n",
    "* Description: A parametric test for 2+ independent samples to determine if they have the same population mean. \n",
    "* Assumptions:\n",
    "    * Samples must be independent\n",
    "    * Population is normally distributed\n",
    "    * Populations' standard deviations are equal\n",
    "* Example: Take a big group of students, break them up by gender, and see if their heights differ by gender."
   ]
  },
  {
   "cell_type": "markdown",
   "id": "narrative-hybrid",
   "metadata": {},
   "source": [
    "##### pearsonr\n",
    "\n",
    "* Function:\n",
    "* Link:\n",
    "* Test:\n",
    "* Description:\n",
    "* Assumptions:\n",
    "* Example:"
   ]
  },
  {
   "cell_type": "markdown",
   "id": "patient-gender",
   "metadata": {},
   "source": [
    "##### spearmanr\n",
    "\n",
    "* Function:\n",
    "* Link:\n",
    "* Test:\n",
    "* Description:\n",
    "* Assumptions:\n",
    "* Example:"
   ]
  },
  {
   "cell_type": "markdown",
   "id": "standing-plenty",
   "metadata": {},
   "source": [
    "##### pointbiseralr\n",
    "\n",
    "* Function:\n",
    "* Link:\n",
    "* Test:\n",
    "* Description:\n",
    "* Assumptions:\n",
    "* Example:"
   ]
  },
  {
   "cell_type": "markdown",
   "id": "integral-guide",
   "metadata": {},
   "source": [
    "##### kendalltau\n",
    "\n",
    "* Function:\n",
    "* Link:\n",
    "* Test:\n",
    "* Description:\n",
    "* Assumptions:\n",
    "* Example:"
   ]
  },
  {
   "cell_type": "markdown",
   "id": "decreased-single",
   "metadata": {},
   "source": [
    "##### ttest_1samp\n",
    "\n",
    "* Function:\n",
    "* Link:\n",
    "* Test:\n",
    "* Description:\n",
    "* Assumptions:\n",
    "* Example:"
   ]
  },
  {
   "cell_type": "markdown",
   "id": "acoustic-brazilian",
   "metadata": {},
   "source": [
    "##### ttest_ind\n",
    "\n",
    "* Function:\n",
    "* Link:\n",
    "* Test:\n",
    "* Description:\n",
    "* Assumptions:\n",
    "* Example:"
   ]
  },
  {
   "cell_type": "markdown",
   "id": "vietnamese-nickel",
   "metadata": {},
   "source": [
    "##### ttest_rel\n",
    "\n",
    "* Function:\n",
    "* Link:\n",
    "* Test:\n",
    "* Description:\n",
    "* Assumptions:\n",
    "* Example:"
   ]
  },
  {
   "cell_type": "markdown",
   "id": "proved-momentum",
   "metadata": {},
   "source": [
    "##### chisquare\n",
    "\n",
    "* Function:\n",
    "* Link:\n",
    "* Test:\n",
    "* Description:\n",
    "* Assumptions:\n",
    "* Example:"
   ]
  },
  {
   "cell_type": "markdown",
   "id": "lyric-shelf",
   "metadata": {},
   "source": [
    "##### mannwhitneyu\n",
    "\n",
    "* Function:\n",
    "* Link:\n",
    "* Test:\n",
    "* Description:\n",
    "* Assumptions:\n",
    "* Example:"
   ]
  },
  {
   "cell_type": "markdown",
   "id": "disturbed-intelligence",
   "metadata": {},
   "source": [
    "##### kstest\n",
    "\n",
    "* Function:\n",
    "* Link:\n",
    "* Test:\n",
    "* Description:\n",
    "* Assumptions:\n",
    "* Example:"
   ]
  },
  {
   "cell_type": "markdown",
   "id": "eight-methodology",
   "metadata": {},
   "source": [
    "##### wilcoxon\n",
    "\n",
    "* Function:\n",
    "* Link:\n",
    "* Test:\n",
    "* Description:\n",
    "* Assumptions:\n",
    "* Example:"
   ]
  },
  {
   "cell_type": "markdown",
   "id": "religious-laser",
   "metadata": {},
   "source": [
    "##### kruskal\n",
    "\n",
    "* Function:\n",
    "* Link:\n",
    "* Test:\n",
    "* Description:\n",
    "* Assumptions:\n",
    "* Example:"
   ]
  },
  {
   "cell_type": "markdown",
   "id": "universal-monitor",
   "metadata": {},
   "source": [
    "#### Q5.4)"
   ]
  },
  {
   "cell_type": "markdown",
   "id": "charming-longitude",
   "metadata": {},
   "source": [
    "For each scenario below, identify what test you might choose.\n",
    "\n",
    "1. If we wished to test whether there was any association between Gender and uptake of Flu vaccination which would be the best test to choose?"
   ]
  },
  {
   "cell_type": "markdown",
   "id": "emerging-detective",
   "metadata": {},
   "source": []
  },
  {
   "cell_type": "markdown",
   "id": "binding-payday",
   "metadata": {},
   "source": [
    "2. If we wished to test if there was a difference between the gestational age of babies at birth (how far along the pregnancy is, in weeks) and the use of a nutritional supplement by their mothers during pregnancy which would be the best test to choose?"
   ]
  },
  {
   "cell_type": "markdown",
   "id": "short-organization",
   "metadata": {},
   "source": []
  },
  {
   "cell_type": "markdown",
   "id": "tropical-poster",
   "metadata": {},
   "source": [
    "3. The cotinine level was measured in women at the beginning and end of their pregnancy. The change in cotinine was presented on a Log scale. Which would be the best test to use to see if there had been a change in cotinine level during pregnancy?"
   ]
  },
  {
   "cell_type": "markdown",
   "id": "fitted-powell",
   "metadata": {},
   "source": []
  },
  {
   "cell_type": "markdown",
   "id": "equipped-cargo",
   "metadata": {},
   "source": [
    "4. If we wished to estimate the strength of the linear relationship between the weight of a mother and the weight of her baby at birth which would be the best test to choose?"
   ]
  },
  {
   "cell_type": "markdown",
   "id": "subject-bermuda",
   "metadata": {},
   "source": []
  },
  {
   "cell_type": "markdown",
   "id": "foster-bristol",
   "metadata": {},
   "source": [
    "5. The pre-operative and post-operative anxiety levels of adolescent patients undergoing orthopaedic surgery were measured using the State-Trait Anxiety Inventory STAI scale. The authors reported the pre-operative anxiety levels as mean = 33.8 (SD = 5.1) and post-operative anxiety levels as mean = 38.8 (SD = 7.2). They also performed a Shapiro-Wilks Test demonstrating that the data is normal. Which would have been the most appropriate test to assess the relationship between pre and post operative anxiety?"
   ]
  },
  {
   "cell_type": "markdown",
   "id": "unknown-growing",
   "metadata": {},
   "source": []
  },
  {
   "cell_type": "markdown",
   "id": "familiar-arlington",
   "metadata": {},
   "source": [
    "6. Salaries in the United States are heavily skewed. If you were investigating salaries between Software Engineers and non-Software Engineers, which test would be most appropriate?"
   ]
  },
  {
   "cell_type": "markdown",
   "id": "threaded-prospect",
   "metadata": {},
   "source": []
  },
  {
   "cell_type": "markdown",
   "id": "black-royalty",
   "metadata": {},
   "source": [
    "7. As previously mentioned, salaries in the United States are heavily skewed. You conduct a survey of 100 folks (selected completely at random from the US), asking their salary and their \"satisfaction their salary\" with the possible responses \"Very Happy\", \"Happy\", \"Neutral\", \"Unhappy\", and \"Very Unhappy\". What test could you use to determine the relationship between these two values?"
   ]
  },
  {
   "cell_type": "markdown",
   "id": "backed-animal",
   "metadata": {},
   "source": []
  },
  {
   "cell_type": "markdown",
   "id": "grand-harrison",
   "metadata": {},
   "source": [
    "8. It is 2022, and the revolution has begun. It is chaos in the streets, and societal upheaval is everywhere. Strangely, you are more interested in doing data science, and are now investigating whether salaries are still skewed. You go back to the 100 folks you talked to previously, and ask them for their new salary data. What test can help you determine if there is a change?"
   ]
  },
  {
   "cell_type": "markdown",
   "id": "twenty-hundred",
   "metadata": {},
   "source": []
  },
  {
   "cell_type": "markdown",
   "id": "chronic-glossary",
   "metadata": {},
   "source": [
    "#### Q5.5)\n",
    "\n",
    "Recall the skyscrapers data we looked at before."
   ]
  },
  {
   "cell_type": "code",
   "execution_count": 150,
   "id": "protective-sustainability",
   "metadata": {},
   "outputs": [
    {
     "data": {
      "text/html": [
       "<div>\n",
       "<style scoped>\n",
       "    .dataframe tbody tr th:only-of-type {\n",
       "        vertical-align: middle;\n",
       "    }\n",
       "\n",
       "    .dataframe tbody tr th {\n",
       "        vertical-align: top;\n",
       "    }\n",
       "\n",
       "    .dataframe thead th {\n",
       "        text-align: right;\n",
       "    }\n",
       "</style>\n",
       "<table border=\"1\" class=\"dataframe\">\n",
       "  <thead>\n",
       "    <tr style=\"text-align: right;\">\n",
       "      <th></th>\n",
       "      <th>id</th>\n",
       "      <th>material</th>\n",
       "      <th>name</th>\n",
       "      <th>development.phase</th>\n",
       "      <th>location.city</th>\n",
       "      <th>location.latitude</th>\n",
       "      <th>location.longitude</th>\n",
       "      <th>statistics.height</th>\n",
       "      <th>tall?</th>\n",
       "    </tr>\n",
       "  </thead>\n",
       "  <tbody>\n",
       "    <tr>\n",
       "      <th>0</th>\n",
       "      <td>12</td>\n",
       "      <td>steel</td>\n",
       "      <td>The Illinois</td>\n",
       "      <td>1</td>\n",
       "      <td>Chicago</td>\n",
       "      <td>0.000000</td>\n",
       "      <td>0.000000</td>\n",
       "      <td>1609.359985</td>\n",
       "      <td>True</td>\n",
       "    </tr>\n",
       "    <tr>\n",
       "      <th>1</th>\n",
       "      <td>62</td>\n",
       "      <td>composite</td>\n",
       "      <td>Chicago Spire</td>\n",
       "      <td>2</td>\n",
       "      <td>Chicago</td>\n",
       "      <td>41.889889</td>\n",
       "      <td>-87.614861</td>\n",
       "      <td>609.599976</td>\n",
       "      <td>True</td>\n",
       "    </tr>\n",
       "    <tr>\n",
       "      <th>2</th>\n",
       "      <td>68</td>\n",
       "      <td>composite</td>\n",
       "      <td>Miglin-Beitler Skyneedle</td>\n",
       "      <td>1</td>\n",
       "      <td>Chicago</td>\n",
       "      <td>41.881618</td>\n",
       "      <td>-87.634354</td>\n",
       "      <td>609.489990</td>\n",
       "      <td>True</td>\n",
       "    </tr>\n",
       "    <tr>\n",
       "      <th>3</th>\n",
       "      <td>98</td>\n",
       "      <td>composite</td>\n",
       "      <td>One World Trade Center</td>\n",
       "      <td>3</td>\n",
       "      <td>New York City</td>\n",
       "      <td>40.713112</td>\n",
       "      <td>-74.013351</td>\n",
       "      <td>541.299988</td>\n",
       "      <td>True</td>\n",
       "    </tr>\n",
       "    <tr>\n",
       "      <th>4</th>\n",
       "      <td>14269</td>\n",
       "      <td>concrete</td>\n",
       "      <td>Central Park Tower</td>\n",
       "      <td>2</td>\n",
       "      <td>New York City</td>\n",
       "      <td>40.766361</td>\n",
       "      <td>-73.980949</td>\n",
       "      <td>541.020020</td>\n",
       "      <td>True</td>\n",
       "    </tr>\n",
       "  </tbody>\n",
       "</table>\n",
       "</div>"
      ],
      "text/plain": [
       "      id   material                      name  development.phase  \\\n",
       "0     12      steel              The Illinois                  1   \n",
       "1     62  composite             Chicago Spire                  2   \n",
       "2     68  composite  Miglin-Beitler Skyneedle                  1   \n",
       "3     98  composite    One World Trade Center                  3   \n",
       "4  14269   concrete        Central Park Tower                  2   \n",
       "\n",
       "   location.city  location.latitude  location.longitude  statistics.height  \\\n",
       "0        Chicago           0.000000            0.000000        1609.359985   \n",
       "1        Chicago          41.889889          -87.614861         609.599976   \n",
       "2        Chicago          41.881618          -87.634354         609.489990   \n",
       "3  New York City          40.713112          -74.013351         541.299988   \n",
       "4  New York City          40.766361          -73.980949         541.020020   \n",
       "\n",
       "   tall?  \n",
       "0   True  \n",
       "1   True  \n",
       "2   True  \n",
       "3   True  \n",
       "4   True  "
      ]
     },
     "execution_count": 150,
     "metadata": {},
     "output_type": "execute_result"
    }
   ],
   "source": [
    "skyscrapers.head()"
   ]
  },
  {
   "cell_type": "markdown",
   "id": "indian-irish",
   "metadata": {},
   "source": [
    "Is there a relationship between a Skyscrapers latitude and height?"
   ]
  },
  {
   "cell_type": "code",
   "execution_count": null,
   "id": "backed-prisoner",
   "metadata": {},
   "outputs": [],
   "source": []
  },
  {
   "cell_type": "markdown",
   "id": "remarkable-ideal",
   "metadata": {},
   "source": [
    "Are `New York City` skyscrapers bigger than `Chicago` skyscrapers?"
   ]
  },
  {
   "cell_type": "code",
   "execution_count": null,
   "id": "controversial-telling",
   "metadata": {},
   "outputs": [],
   "source": []
  },
  {
   "cell_type": "markdown",
   "id": "suffering-introduction",
   "metadata": {},
   "source": [
    "In the dataset, completed skyscrapers are phase 3, in-progress skyscrapers are phase 2, and not-started skyscrapers are phase 1.\n",
    "Considering only skyscrapers made with concrete and steel, is there a difference in the distribution of the different development phases between the two materials? "
   ]
  },
  {
   "cell_type": "code",
   "execution_count": 157,
   "id": "central-defense",
   "metadata": {},
   "outputs": [
    {
     "data": {
      "text/html": [
       "<div>\n",
       "<style scoped>\n",
       "    .dataframe tbody tr th:only-of-type {\n",
       "        vertical-align: middle;\n",
       "    }\n",
       "\n",
       "    .dataframe tbody tr th {\n",
       "        vertical-align: top;\n",
       "    }\n",
       "\n",
       "    .dataframe thead th {\n",
       "        text-align: right;\n",
       "    }\n",
       "</style>\n",
       "<table border=\"1\" class=\"dataframe\">\n",
       "  <thead>\n",
       "    <tr style=\"text-align: right;\">\n",
       "      <th>development.phase</th>\n",
       "      <th>1</th>\n",
       "      <th>2</th>\n",
       "      <th>3</th>\n",
       "    </tr>\n",
       "    <tr>\n",
       "      <th>material</th>\n",
       "      <th></th>\n",
       "      <th></th>\n",
       "      <th></th>\n",
       "    </tr>\n",
       "  </thead>\n",
       "  <tbody>\n",
       "    <tr>\n",
       "      <th>concrete</th>\n",
       "      <td>99</td>\n",
       "      <td>162</td>\n",
       "      <td>1105</td>\n",
       "    </tr>\n",
       "    <tr>\n",
       "      <th>steel</th>\n",
       "      <td>9</td>\n",
       "      <td>10</td>\n",
       "      <td>856</td>\n",
       "    </tr>\n",
       "  </tbody>\n",
       "</table>\n",
       "</div>"
      ],
      "text/plain": [
       "development.phase   1    2     3\n",
       "material                        \n",
       "concrete           99  162  1105\n",
       "steel               9   10   856"
      ]
     },
     "execution_count": 157,
     "metadata": {},
     "output_type": "execute_result"
    }
   ],
   "source": []
  },
  {
   "cell_type": "markdown",
   "id": "pregnant-tongue",
   "metadata": {},
   "source": [
    "# Part 6) Effect Sizes\n",
    "\n",
    "Watch the videos, and answer the questions.\n",
    "\n",
    "https://youtu.be/PyNzbDbjs1Y"
   ]
  },
  {
   "cell_type": "markdown",
   "id": "assumed-extra",
   "metadata": {},
   "source": [
    "#### Q6.1)\n",
    "\n",
    "Why is it important to present p-values AND effect sizes?"
   ]
  },
  {
   "cell_type": "markdown",
   "id": "charitable-malaysia",
   "metadata": {},
   "source": []
  },
  {
   "cell_type": "markdown",
   "id": "perceived-damage",
   "metadata": {},
   "source": [
    "#### Q6.2)\n",
    "\n",
    "The video briefly suggests some ways to calculate effect size. For each of the following, give a brief explanation:\n"
   ]
  },
  {
   "cell_type": "markdown",
   "id": "loose-reminder",
   "metadata": {},
   "source": [
    "* Pearson Correlation: \n",
    "* R Squared: \n",
    "* Cohen's d Effect Size: \n",
    "* Eta Squared:\n",
    "* Odds Ratio:"
   ]
  },
  {
   "cell_type": "markdown",
   "id": "british-colombia",
   "metadata": {},
   "source": [
    "#### Q6.3)\n",
    "\n",
    "Watch the following video, then answer the question below.\n",
    "\n",
    "https://youtu.be/6uYNVCy-8NA"
   ]
  },
  {
   "cell_type": "markdown",
   "id": "moving-pakistan",
   "metadata": {},
   "source": [
    "In the video, the speaker suggests concrete ways to interpret effect sizes. However, Cohen warned about turning effect size numbers into ideas of \"small\", \"medium\", and \"large\". What is dangerous about interpreting effect size values?"
   ]
  },
  {
   "cell_type": "markdown",
   "id": "amended-hardwood",
   "metadata": {},
   "source": []
  },
  {
   "cell_type": "markdown",
   "id": "educated-cooperative",
   "metadata": {},
   "source": [
    "#### Q6.4)\n",
    "\n",
    "Your arch-nemesis stands up and reports, \"In our study, we found a significant difference between the control group and the treatment group. Clearly, my research team deserves more funding.\" You raise your hand to ask a question - what do you ask?"
   ]
  },
  {
   "cell_type": "markdown",
   "id": "later-volleyball",
   "metadata": {},
   "source": []
  },
  {
   "cell_type": "markdown",
   "id": "bridal-class",
   "metadata": {},
   "source": [
    "#### Q6.5)\n",
    "\n",
    "Previously, you were asked to calculate whether there was a significant difference between `New York City` and `Chicago` skyscrapers. Now provide a measure of effect size to fully characterize their difference."
   ]
  },
  {
   "cell_type": "code",
   "execution_count": null,
   "id": "affected-blues",
   "metadata": {},
   "outputs": [],
   "source": []
  }
 ],
 "metadata": {
  "kernelspec": {
   "display_name": "Python 3",
   "language": "python",
   "name": "python3"
  },
  "language_info": {
   "codemirror_mode": {
    "name": "ipython",
    "version": 3
   },
   "file_extension": ".py",
   "mimetype": "text/x-python",
   "name": "python",
   "nbconvert_exporter": "python",
   "pygments_lexer": "ipython3",
   "version": "3.9.1"
  }
 },
 "nbformat": 4,
 "nbformat_minor": 5
}
