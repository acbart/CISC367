{
 "cells": [
  {
   "cell_type": "markdown",
   "id": "growing-typing",
   "metadata": {},
   "source": [
    "# Delaware Test Scores: Charter Schools, Income Level, and Racial Equity\n",
    "By Megan Englert\n",
    "\n",
    "### The Problem\n",
    "Charter schools are both prevalent and heavily debated in Delaware. While it makes sense that parents want to be able to choose their child's education, there are not enough charter schools to meet demand right now. Do parents really get to \"choose\" when they are reliant on their student's scores or a random lottery to be able to actually make that choice? Many people protest charter schools, however, arguing that the per-student funding lost from public schools makes a difference. A few students per grade leaving results in lost funding in many states, but does not decrease the cost of faculty or maintaining the building.\n",
    "\n",
    "But here's an important question: *Do charter schools actually make a difference?* This report will consider the percentage proficiency from different districts on the Smarter Balanced Standardized Assessment, a common assessment in Delaware meant to measure students' progress. The two datasets used in this report were both collected by the Delaware Depertment of Education. One contains [test data](https://data.delaware.gov/Education/Student-Assessment-Performance/ms6b-mt82), while [the other](https://data.delaware.gov/Education/Delaware-Public-Education-Organization-Directory/p3ez-si4g) will be used to obtain each school's \"District Type\" for charter vs. non-charter public."
   ]
  },
  {
   "cell_type": "markdown",
   "id": "preceding-antibody",
   "metadata": {},
   "source": [
    "## Data Pre-Processing"
   ]
  },
  {
   "cell_type": "code",
   "execution_count": 4,
   "id": "decent-thomson",
   "metadata": {},
   "outputs": [
    {
     "data": {
      "text/html": [
       "<div>\n",
       "<style scoped>\n",
       "    .dataframe tbody tr th:only-of-type {\n",
       "        vertical-align: middle;\n",
       "    }\n",
       "\n",
       "    .dataframe tbody tr th {\n",
       "        vertical-align: top;\n",
       "    }\n",
       "\n",
       "    .dataframe thead th {\n",
       "        text-align: right;\n",
       "    }\n",
       "</style>\n",
       "<table border=\"1\" class=\"dataframe\">\n",
       "  <thead>\n",
       "    <tr style=\"text-align: right;\">\n",
       "      <th></th>\n",
       "      <th>District Code</th>\n",
       "      <th>District Type</th>\n",
       "      <th>School Year</th>\n",
       "      <th>District</th>\n",
       "      <th>School Code</th>\n",
       "      <th>Organization</th>\n",
       "      <th>Assessment Name</th>\n",
       "      <th>ContentArea</th>\n",
       "      <th>Race</th>\n",
       "      <th>Gender</th>\n",
       "      <th>Grade</th>\n",
       "      <th>SpecialDemo</th>\n",
       "      <th>Geography</th>\n",
       "      <th>SubGroup</th>\n",
       "      <th>RowStatus</th>\n",
       "      <th>Tested</th>\n",
       "      <th>Proficient</th>\n",
       "      <th>PctProficient</th>\n",
       "      <th>ScaleScoreAvg</th>\n",
       "    </tr>\n",
       "  </thead>\n",
       "  <tbody>\n",
       "    <tr>\n",
       "      <th>3646</th>\n",
       "      <td>10</td>\n",
       "      <td>Regular</td>\n",
       "      <td>2015</td>\n",
       "      <td>Caesar Rodney School District</td>\n",
       "      <td>0</td>\n",
       "      <td>Caesar Rodney School District</td>\n",
       "      <td>DCAS Alternate Assessment</td>\n",
       "      <td>ELA</td>\n",
       "      <td>Hispanic/Latino</td>\n",
       "      <td>All Students</td>\n",
       "      <td>3rd Grade</td>\n",
       "      <td>All Students</td>\n",
       "      <td>All Students</td>\n",
       "      <td>Hispanic/Latino/3rd Grade</td>\n",
       "      <td>REDACTED</td>\n",
       "      <td>NaN</td>\n",
       "      <td>NaN</td>\n",
       "      <td>NaN</td>\n",
       "      <td>NaN</td>\n",
       "    </tr>\n",
       "    <tr>\n",
       "      <th>3647</th>\n",
       "      <td>10</td>\n",
       "      <td>Regular</td>\n",
       "      <td>2015</td>\n",
       "      <td>Caesar Rodney School District</td>\n",
       "      <td>0</td>\n",
       "      <td>Caesar Rodney School District</td>\n",
       "      <td>DCAS Alternate Assessment</td>\n",
       "      <td>ELA</td>\n",
       "      <td>Hispanic/Latino</td>\n",
       "      <td>All Students</td>\n",
       "      <td>4th Grade</td>\n",
       "      <td>All Students</td>\n",
       "      <td>All Students</td>\n",
       "      <td>Hispanic/Latino/4th Grade</td>\n",
       "      <td>REDACTED</td>\n",
       "      <td>NaN</td>\n",
       "      <td>NaN</td>\n",
       "      <td>NaN</td>\n",
       "      <td>NaN</td>\n",
       "    </tr>\n",
       "    <tr>\n",
       "      <th>3648</th>\n",
       "      <td>10</td>\n",
       "      <td>Regular</td>\n",
       "      <td>2015</td>\n",
       "      <td>Caesar Rodney School District</td>\n",
       "      <td>0</td>\n",
       "      <td>Caesar Rodney School District</td>\n",
       "      <td>DCAS Alternate Assessment</td>\n",
       "      <td>ELA</td>\n",
       "      <td>Hispanic/Latino</td>\n",
       "      <td>All Students</td>\n",
       "      <td>5th Grade</td>\n",
       "      <td>All Students</td>\n",
       "      <td>All Students</td>\n",
       "      <td>Hispanic/Latino/5th Grade</td>\n",
       "      <td>REDACTED</td>\n",
       "      <td>NaN</td>\n",
       "      <td>NaN</td>\n",
       "      <td>NaN</td>\n",
       "      <td>NaN</td>\n",
       "    </tr>\n",
       "    <tr>\n",
       "      <th>3649</th>\n",
       "      <td>10</td>\n",
       "      <td>Regular</td>\n",
       "      <td>2015</td>\n",
       "      <td>Caesar Rodney School District</td>\n",
       "      <td>0</td>\n",
       "      <td>Caesar Rodney School District</td>\n",
       "      <td>DCAS Alternate Assessment</td>\n",
       "      <td>ELA</td>\n",
       "      <td>Hispanic/Latino</td>\n",
       "      <td>All Students</td>\n",
       "      <td>6th Grade</td>\n",
       "      <td>All Students</td>\n",
       "      <td>All Students</td>\n",
       "      <td>Hispanic/Latino/6th Grade</td>\n",
       "      <td>REDACTED</td>\n",
       "      <td>NaN</td>\n",
       "      <td>NaN</td>\n",
       "      <td>NaN</td>\n",
       "      <td>NaN</td>\n",
       "    </tr>\n",
       "    <tr>\n",
       "      <th>3650</th>\n",
       "      <td>10</td>\n",
       "      <td>Regular</td>\n",
       "      <td>2015</td>\n",
       "      <td>Caesar Rodney School District</td>\n",
       "      <td>0</td>\n",
       "      <td>Caesar Rodney School District</td>\n",
       "      <td>DCAS Alternate Assessment</td>\n",
       "      <td>ELA</td>\n",
       "      <td>Hispanic/Latino</td>\n",
       "      <td>All Students</td>\n",
       "      <td>7th Grade</td>\n",
       "      <td>All Students</td>\n",
       "      <td>All Students</td>\n",
       "      <td>Hispanic/Latino/7th Grade</td>\n",
       "      <td>REDACTED</td>\n",
       "      <td>NaN</td>\n",
       "      <td>NaN</td>\n",
       "      <td>NaN</td>\n",
       "      <td>NaN</td>\n",
       "    </tr>\n",
       "  </tbody>\n",
       "</table>\n",
       "</div>"
      ],
      "text/plain": [
       "      District Code District Type  School Year                       District  \\\n",
       "3646             10       Regular         2015  Caesar Rodney School District   \n",
       "3647             10       Regular         2015  Caesar Rodney School District   \n",
       "3648             10       Regular         2015  Caesar Rodney School District   \n",
       "3649             10       Regular         2015  Caesar Rodney School District   \n",
       "3650             10       Regular         2015  Caesar Rodney School District   \n",
       "\n",
       "      School Code                   Organization            Assessment Name  \\\n",
       "3646            0  Caesar Rodney School District  DCAS Alternate Assessment   \n",
       "3647            0  Caesar Rodney School District  DCAS Alternate Assessment   \n",
       "3648            0  Caesar Rodney School District  DCAS Alternate Assessment   \n",
       "3649            0  Caesar Rodney School District  DCAS Alternate Assessment   \n",
       "3650            0  Caesar Rodney School District  DCAS Alternate Assessment   \n",
       "\n",
       "     ContentArea             Race        Gender      Grade   SpecialDemo  \\\n",
       "3646         ELA  Hispanic/Latino  All Students  3rd Grade  All Students   \n",
       "3647         ELA  Hispanic/Latino  All Students  4th Grade  All Students   \n",
       "3648         ELA  Hispanic/Latino  All Students  5th Grade  All Students   \n",
       "3649         ELA  Hispanic/Latino  All Students  6th Grade  All Students   \n",
       "3650         ELA  Hispanic/Latino  All Students  7th Grade  All Students   \n",
       "\n",
       "         Geography                   SubGroup RowStatus  Tested  Proficient  \\\n",
       "3646  All Students  Hispanic/Latino/3rd Grade  REDACTED     NaN         NaN   \n",
       "3647  All Students  Hispanic/Latino/4th Grade  REDACTED     NaN         NaN   \n",
       "3648  All Students  Hispanic/Latino/5th Grade  REDACTED     NaN         NaN   \n",
       "3649  All Students  Hispanic/Latino/6th Grade  REDACTED     NaN         NaN   \n",
       "3650  All Students  Hispanic/Latino/7th Grade  REDACTED     NaN         NaN   \n",
       "\n",
       "      PctProficient  ScaleScoreAvg  \n",
       "3646            NaN            NaN  \n",
       "3647            NaN            NaN  \n",
       "3648            NaN            NaN  \n",
       "3649            NaN            NaN  \n",
       "3650            NaN            NaN  "
      ]
     },
     "execution_count": 4,
     "metadata": {},
     "output_type": "execute_result"
    }
   ],
   "source": [
    "#Importing necessary libraries\n",
    "import pandas as pd\n",
    "import numpy as np\n",
    "import seaborn as sns\n",
    "import matplotlib.pyplot as plt\n",
    "import scipy.stats as stats\n",
    "\n",
    "#Importing data\n",
    "data1 = pd.read_csv(\"C:\\\\Users\\\\megan\\\\Desktop\\\\CISC367\\\\Datasets\\\\Student_Assessment_Performance.csv\")\n",
    "data2 = pd.read_csv(\"C:\\\\Users\\\\megan\\\\Desktop\\\\CISC367\\\\Datasets\\\\Delaware_Public_Education_Organization_Directory.csv\")\n",
    "\n",
    "# Merging datasets to get district type for each district\n",
    "data1.head()\n",
    "types = data2[[\"District Code\",\"District Type\"]]\n",
    "types = types.drop_duplicates()\n",
    "combined = pd.merge(types, data1)\n",
    "# Dropping non-standard and non-charter schools since we are not considering them\n",
    "combined = combined[combined['District Type']!= \"Not Applicable\"]\n",
    "combined.head()"
   ]
  },
  {
   "cell_type": "markdown",
   "id": "varying-luxembourg",
   "metadata": {},
   "source": [
    "## Percentage Proficiency\n",
    "\n",
    "This report is based on the percentage proficient reported for each age group in each demographic. This percentage reflects the number of students who have met or exceeded state standards. The following graph shows the distribution of percent proficient for all students across all districts in DE for the year 2019."
   ]
  },
  {
   "cell_type": "code",
   "execution_count": 14,
   "id": "hungarian-dairy",
   "metadata": {},
   "outputs": [
    {
     "data": {
      "image/png": "[encoded data removed]",
      "text/plain": [
       "<Figure size 432x288 with 1 Axes>"
      ]
     },
     "metadata": {
      "needs_background": "light"
     },
     "output_type": "display_data"
    },
    {
     "data": {
      "text/plain": [
       "count    340.000000\n",
       "mean      48.798147\n",
       "std       18.530959\n",
       "min        3.680000\n",
       "25%       36.477500\n",
       "50%       50.840000\n",
       "75%       61.312500\n",
       "max       94.580000\n",
       "Name: PctProficient, dtype: float64"
      ]
     },
     "execution_count": 14,
     "metadata": {},
     "output_type": "execute_result"
    }
   ],
   "source": [
    "df_overall = combined[(combined.SubGroup == 'All Students') & \n",
    "                      (combined['Assessment Name'] == 'Smarter Balanced Summative Assessment') & \n",
    "                      (combined.RowStatus == 'REPORTED') & \n",
    "                      (combined['School Year'] == 2019)]\n",
    "df = df_overall\n",
    "sns.boxplot(x = 'PctProficient',\n",
    "           data = df).set(xlim=(0,100))\n",
    "plt.title(\"Percentages Proficient for All District in DE, 2019\")\n",
    "plt.xlabel(\"Percent of Students Proficient\")\n",
    "plt.show()\n",
    "df.PctProficient.describe()"
   ]
  },
  {
   "cell_type": "markdown",
   "id": "magnetic-python",
   "metadata": {},
   "source": [
    "As we can see, the percentage of proficient students in each district varied extremely greatly, from 3.68% to 94.58%."
   ]
  },
  {
   "cell_type": "markdown",
   "id": "necessary-arrest",
   "metadata": {},
   "source": [
    "## Charter Schools\n",
    "Now, we will compare regular schools to charter school scores."
   ]
  },
  {
   "cell_type": "code",
   "execution_count": 18,
   "id": "finished-humidity",
   "metadata": {},
   "outputs": [
    {
     "data": {
      "image/png": "[encoded data removed]",
      "text/plain": [
       "<Figure size 432x288 with 1 Axes>"
      ]
     },
     "metadata": {
      "needs_background": "light"
     },
     "output_type": "display_data"
    }
   ],
   "source": [
    "sns.barplot(y = 'District Type',\n",
    "           x = 'PctProficient',\n",
    "           data = df,\n",
    "           palette = 'Blues',\n",
    "           estimator = np.median).set(xlim=(0,100))\n",
    "plt.title(\"Median Percent Proficiency in DE by District Type on the SBSA, 2019\")\n",
    "plt.ylabel(\"District Type\")\n",
    "plt.xlabel(\"Percentage Proficient\")\n",
    "plt.show()"
   ]
  },
  {
   "cell_type": "markdown",
   "id": "other-portugal",
   "metadata": {},
   "source": [
    "Now we will test to see if the difference is as pronounced as it appears."
   ]
  },
  {
   "cell_type": "code",
   "execution_count": 22,
   "id": "thirty-pizza",
   "metadata": {},
   "outputs": [
    {
     "name": "stdout",
     "output_type": "stream",
     "text": [
      "Difference between two independent T's for charter vs. non-charter:  1.918579093783365 0.05587968932075212 False\n",
      "There is no statistically signficant difference in the Percentage Proficient for Charter vs Non-Charter schools on the SBSA.\n"
     ]
    }
   ],
   "source": [
    "df_reg = df[df[\"District Type\"] == \"Regular\"]\n",
    "df_charter = df[df[\"District Type\"] == \"Charter\"]\n",
    "test_stat, p = stats.ttest_ind(df_reg.PctProficient, df_charter.PctProficient)\n",
    "print(\"Difference between two independent T's for charter vs. non-charter: \", test_stat, p, p < 0.05)\n",
    "print(\"There is no statistically signficant difference in the Percentage Proficient for Charter vs Non-Charter schools on the SBSA.\")"
   ]
  },
  {
   "cell_type": "markdown",
   "id": "atlantic-elephant",
   "metadata": {},
   "source": [
    "## Low-Income Students\n",
    "Since the original dataset does not separate non-low-income students from the population, we technically are unable to make good comparisons with low-income students against the rest of the population. While this is technically incorrect, it is the best we have for now. If anything, it is possible that there may actually be a larger difference, since one of the datasets contains the other."
   ]
  },
  {
   "cell_type": "code",
   "execution_count": 25,
   "id": "minimal-fifteen",
   "metadata": {},
   "outputs": [
    {
     "data": {
      "image/png": "[encoded data removed]",
      "text/plain": [
       "<Figure size 432x288 with 1 Axes>"
      ]
     },
     "metadata": {
      "needs_background": "light"
     },
     "output_type": "display_data"
    }
   ],
   "source": [
    "df_low_inc = combined[((combined.SubGroup == 'Low Income') | (combined.SubGroup == 'All Students'))\n",
    "                      & (combined['Assessment Name'] == 'Smarter Balanced Summative Assessment') \n",
    "                      & (combined.RowStatus == 'REPORTED') \n",
    "                      & (combined['School Year'] == 2019)]\n",
    "df = df_low_inc\n",
    "sns.barplot(y = 'SubGroup',\n",
    "           x = 'PctProficient',\n",
    "           data = df,\n",
    "           palette = 'Greens',\n",
    "           estimator = np.median).set(xlim=(0,100))\n",
    "plt.title(\"Percent Proficiency in 2019 on the SBSA, Low Income vs. All DE Students\")\n",
    "plt.xlabel(\"Percentage Proficient\")\n",
    "plt.ylabel(\"Sub Group of Students\")\n",
    "plt.show()"
   ]
  },
  {
   "cell_type": "code",
   "execution_count": 29,
   "id": "distributed-armstrong",
   "metadata": {},
   "outputs": [
    {
     "name": "stdout",
     "output_type": "stream",
     "text": [
      "Difference between two independent T's for low income vs. all students:  9.604673535469209 1.496920853483063e-20 True\n",
      "There is a statistically significant difference between percent proficiency for low income and all students in Delaware.\n",
      "A randomly selected student from the entire student population is 1.3537382901260329 more likely to be proficient on the SBSA than a student from the low-income population.\n"
     ]
    }
   ],
   "source": [
    "df_all = df[df[\"SubGroup\"] == \"All Students\"]\n",
    "df_low = df[df[\"SubGroup\"] == \"Low Income\"]\n",
    "test_stat, p = stats.ttest_ind(df_all.PctProficient, df_low.PctProficient)\n",
    "print(\"Difference between two independent T's for low income vs. all students: \", test_stat, p, p < 0.05)\n",
    "print(\"There is a statistically significant difference between percent proficiency for low income and all students in Delaware.\")\n",
    "print(\"A randomly selected student from the entire student population is\", df_all.PctProficient.mean()/df_low.PctProficient.mean(), \"more likely to be proficient on the SBSA than a student from the low-income population.\")"
   ]
  },
  {
   "cell_type": "markdown",
   "id": "helpful-renewal",
   "metadata": {},
   "source": [
    "## Charter Schools and Low-Income"
   ]
  },
  {
   "cell_type": "code",
   "execution_count": 31,
   "id": "reflected-script",
   "metadata": {},
   "outputs": [
    {
     "data": {
      "image/png": "[encoded data removed]",
      "text/plain": [
       "<Figure size 432x288 with 1 Axes>"
      ]
     },
     "metadata": {
      "needs_background": "light"
     },
     "output_type": "display_data"
    }
   ],
   "source": [
    "sns.barplot(y = 'SubGroup',\n",
    "           x = 'PctProficient',\n",
    "           hue = 'District Type',\n",
    "           data = df,\n",
    "           palette = 'Greens',\n",
    "           estimator = np.median).set(xlim=(0,100))\n",
    "plt.title(\"Percent Proficiency in 2019 on the SBSA, Low Income vs. All DE Students\")\n",
    "plt.ylabel(\"Sub Group of Students\")\n",
    "plt.xlabel(\"Perecentage Proficient\")\n",
    "plt.show()"
   ]
  },
  {
   "cell_type": "code",
   "execution_count": 34,
   "id": "silent-coral",
   "metadata": {},
   "outputs": [
    {
     "name": "stdout",
     "output_type": "stream",
     "text": [
      "Difference between two independent T's for low income students, regular vs. charter:  1.2057966270561442 0.22875975077464558 False\n",
      "There is no statistically significant difference in percentage proficient on the SBSA for low income students depending on whether they attend charter or regular school.\n"
     ]
    }
   ],
   "source": [
    "df_low_reg = df_low[df_low[\"District Type\"] == \"Regular\"]\n",
    "df_low_charter = df_low[df_low[\"District Type\"] == \"Charter\"]\n",
    "test_stat, p = stats.ttest_ind(df_low_reg.PctProficient, df_low_charter.PctProficient)\n",
    "print(\"Difference between two independent T's for low income students, regular vs. charter: \", test_stat, p, p < 0.05)\n",
    "print(\"There is no statistically significant difference in percentage proficient on the SBSA for low income students depending on whether they attend charter or regular school.\")"
   ]
  },
  {
   "cell_type": "markdown",
   "id": "future-cologne",
   "metadata": {},
   "source": [
    "While low-income charter school attendees had the lowest amount of percentage proficient, there is no statistical significance for low income students depending on whether they attend a"
   ]
  }
 ],
 "metadata": {
  "kernelspec": {
   "display_name": "Python 3",
   "language": "python",
   "name": "python3"
  },
  "language_info": {
   "codemirror_mode": {
    "name": "ipython",
    "version": 3
   },
   "file_extension": ".py",
   "mimetype": "text/x-python",
   "name": "python",
   "nbconvert_exporter": "python",
   "pygments_lexer": "ipython3",
   "version": "3.9.1"
  }
 },
 "nbformat": 4,
 "nbformat_minor": 5
}
