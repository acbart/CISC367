{
 "cells": [
  {
   "cell_type": "markdown",
   "id": "failing-blowing",
   "metadata": {},
   "source": [
    "From https://www.learnpython.org/en/List_Comprehensions\n",
    "\n",
    "Using a list comprehension, create a new list called \"newlist\" out of the list \"numbers\", which contains only the positive numbers from the list, as integers."
   ]
  },
  {
   "cell_type": "code",
   "execution_count": 3,
   "id": "potential-living",
   "metadata": {},
   "outputs": [
    {
     "name": "stdout",
     "output_type": "stream",
     "text": [
      "[34.6, 44.9, 68.3, 44.6, 12.7]\n"
     ]
    }
   ],
   "source": [
    "numbers = [34.6, -203.4, 44.9, 68.3, -12.2, 44.6, 12.7]\n",
    "newlist = [num for num in numbers if num > 0]\n",
    "print(newlist)"
   ]
  },
  {
   "cell_type": "markdown",
   "id": "severe-picking",
   "metadata": {},
   "source": [
    "From https://www.learnpython.org/en/Exception_Handling\n",
    "\n",
    "Handle all the exceptions! Think back to the previous lessons to return the last name of the actor."
   ]
  },
  {
   "cell_type": "code",
   "execution_count": 6,
   "id": "amended-collector",
   "metadata": {},
   "outputs": [
    {
     "name": "stdout",
     "output_type": "stream",
     "text": [
      "All exceptions caught! Good job!\n",
      "The actor's last name is Cleese\n"
     ]
    }
   ],
   "source": [
    "# Setup\n",
    "actor = {\"name\": \"John Cleese\", \"rank\": \"awesome\"}\n",
    "\n",
    "# Function to modify!!!\n",
    "def get_last_name(): \n",
    "    try:\n",
    "        return actor[\"last_name\"]\n",
    "    except KeyError:\n",
    "        name = actor[\"name\"]\n",
    "        return name[name.index(\" \")+1:]\n",
    "\n",
    "# Test code\n",
    "get_last_name()\n",
    "print(\"All exceptions caught! Good job!\")\n",
    "print(\"The actor's last name is %s\" % get_last_name())"
   ]
  },
  {
   "cell_type": "markdown",
   "id": "advance-genetics",
   "metadata": {},
   "source": [
    "From: https://www.learnpython.org/en/Sets\n",
    "\n",
    "In the exercise below, use the given lists to print out a set containing all the participants from event A which did not attend event B."
   ]
  },
  {
   "cell_type": "code",
   "execution_count": 8,
   "id": "lyric-treaty",
   "metadata": {},
   "outputs": [
    {
     "name": "stdout",
     "output_type": "stream",
     "text": [
      "{'Jake', 'Eric'}\n"
     ]
    }
   ],
   "source": [
    "a = [\"Jake\", \"John\", \"Eric\"]\n",
    "b = [\"John\", \"Jill\"]\n",
    "\n",
    "set_a = set(a)\n",
    "set_b = set(b)\n",
    "print(set_a.difference(set_b))"
   ]
  },
  {
   "cell_type": "markdown",
   "id": "perfect-trace",
   "metadata": {},
   "source": [
    "# Practice Plan starts here"
   ]
  },
  {
   "cell_type": "markdown",
   "id": "pleased-keyboard",
   "metadata": {},
   "source": [
    "## From w3resource: Tuples\n",
    "https://www.w3resource.com/python-exercises/tuple/\n",
    "\n",
    "3. Write a Python program to create a tuple with numbers and print one item."
   ]
  },
  {
   "cell_type": "code",
   "execution_count": 2,
   "id": "automatic-cookie",
   "metadata": {},
   "outputs": [
    {
     "name": "stdout",
     "output_type": "stream",
     "text": [
      "3\n"
     ]
    }
   ],
   "source": [
    "tup = (1,2,3,4)\n",
    "print(tup[2])"
   ]
  },
  {
   "cell_type": "markdown",
   "id": "extraordinary-barbados",
   "metadata": {},
   "source": [
    "4. Write a Python program to unpack a tuple in several variables."
   ]
  },
  {
   "cell_type": "code",
   "execution_count": 4,
   "id": "coastal-canyon",
   "metadata": {},
   "outputs": [
    {
     "name": "stdout",
     "output_type": "stream",
     "text": [
      "1\n",
      "2\n",
      "hello\n"
     ]
    }
   ],
   "source": [
    "tup = (1, 2, \"hello\")\n",
    "(num1, num2, string1) = tup\n",
    "print(num1)\n",
    "print(num2)\n",
    "print(string1)"
   ]
  },
  {
   "cell_type": "markdown",
   "id": "purple-adaptation",
   "metadata": {},
   "source": [
    "5. Write a Python program to add an item in a tuple."
   ]
  },
  {
   "cell_type": "code",
   "execution_count": 8,
   "id": "pleased-placement",
   "metadata": {},
   "outputs": [
    {
     "name": "stdout",
     "output_type": "stream",
     "text": [
      "(4, 1, 2, 3)\n",
      "(1, 2, 3, 4)\n"
     ]
    }
   ],
   "source": [
    "def add_to_tuple(orig_tuple: tuple, index: int, item) -> tuple:\n",
    "    new_tuple = None\n",
    "    item_in_tuple = (item,)\n",
    "    if index < len(orig_tuple):\n",
    "        new_tuple = orig_tuple[:index] + item_in_tuple + orig_tuple[index:]\n",
    "    elif index == len(orig_tuple):\n",
    "        new_tuple = orig_tuple + item_in_tuple\n",
    "    return new_tuple\n",
    "\n",
    "print(add_to_tuple((1,2,3), 0, 4))\n",
    "print(add_to_tuple((1,2,3), 3, 4))"
   ]
  },
  {
   "cell_type": "markdown",
   "id": "optional-mexican",
   "metadata": {},
   "source": [
    "6. Write a Python program to convert a tuple to a string."
   ]
  },
  {
   "cell_type": "code",
   "execution_count": 9,
   "id": "judicial-wrist",
   "metadata": {},
   "outputs": [
    {
     "name": "stdout",
     "output_type": "stream",
     "text": [
      "(1, 2, 3)\n"
     ]
    }
   ],
   "source": [
    "tup = (1,2,3)\n",
    "tup_as_string = str(tup)\n",
    "print(tup_as_string)"
   ]
  },
  {
   "cell_type": "markdown",
   "id": "ethical-collectible",
   "metadata": {},
   "source": [
    "9. Write a Python program to find the repeated items of a tuple."
   ]
  },
  {
   "cell_type": "code",
   "execution_count": 12,
   "id": "passive-search",
   "metadata": {},
   "outputs": [
    {
     "name": "stdout",
     "output_type": "stream",
     "text": [
      "[1, 3]\n",
      "[]\n"
     ]
    }
   ],
   "source": [
    "def find_repeated_items(tup: tuple) -> list:\n",
    "    repeated_items = []\n",
    "    seen_items = []\n",
    "    for item in tup:\n",
    "        if item not in seen_items:\n",
    "            seen_items.append(item)\n",
    "        elif item in seen_items and item not in repeated_items:\n",
    "            repeated_items.append(item)\n",
    "    return repeated_items\n",
    "\n",
    "print(find_repeated_items((1,2,3,1,3,4)))\n",
    "print(find_repeated_items((1,2,3)))"
   ]
  },
  {
   "cell_type": "markdown",
   "id": "sophisticated-reply",
   "metadata": {},
   "source": [
    "11. Write a Python program to convert a list to a tuple."
   ]
  },
  {
   "cell_type": "code",
   "execution_count": 13,
   "id": "sophisticated-intake",
   "metadata": {},
   "outputs": [
    {
     "name": "stdout",
     "output_type": "stream",
     "text": [
      "(1, 2, 3, 'hello')\n"
     ]
    }
   ],
   "source": [
    "lst = [1,2,3,\"hello\"]\n",
    "tup = tuple(lst)\n",
    "print(tup)"
   ]
  },
  {
   "cell_type": "markdown",
   "id": "exceptional-flash",
   "metadata": {},
   "source": [
    "18. Write a Python program to reverse a tuple."
   ]
  },
  {
   "cell_type": "code",
   "execution_count": 14,
   "id": "associate-court",
   "metadata": {},
   "outputs": [
    {
     "name": "stdout",
     "output_type": "stream",
     "text": [
      "(3, 2, 1)\n"
     ]
    }
   ],
   "source": [
    "def reverse(tup: tuple) -> tuple:\n",
    "    return tup[::-1]\n",
    "\n",
    "print(reverse((1,2,3)))"
   ]
  },
  {
   "cell_type": "markdown",
   "id": "level-ancient",
   "metadata": {},
   "source": [
    "21. Write a Python program to replace last value of tuples in a list.\n",
    "Sample list: [(10, 20, 40), (40, 50, 60), (70, 80, 90)]\n",
    "Expected Output: [(10, 20, 100), (40, 50, 100), (70, 80, 100)]"
   ]
  },
  {
   "cell_type": "code",
   "execution_count": 21,
   "id": "boolean-muslim",
   "metadata": {},
   "outputs": [
    {
     "name": "stdout",
     "output_type": "stream",
     "text": [
      "[(10, 20, 100), (40, 50, 100), (70, 80, 100)]\n"
     ]
    }
   ],
   "source": [
    "def replace_last(tuples: [tuple], value) -> [tuple]:\n",
    "    new_tuples =[]\n",
    "    value_as_tuple = (value,)\n",
    "    for tup in tuples:\n",
    "        new_tuples.append(tup[:-1] + value_as_tuple)\n",
    "    return new_tuples\n",
    "\n",
    "print(replace_last([(10, 20, 40), (40, 50, 60), (70, 80, 90)], 100))"
   ]
  },
  {
   "cell_type": "markdown",
   "id": "economic-transfer",
   "metadata": {},
   "source": [
    "22. Write a Python program to remove an empty tuple(s) from a list of tuples. \n",
    "Sample data: [(), (), ('',), ('a', 'b'), ('a', 'b', 'c'), ('d')]\n",
    "Expected output: [('',), ('a', 'b'), ('a', 'b', 'c'), 'd']"
   ]
  },
  {
   "cell_type": "markdown",
   "id": "hundred-paradise",
   "metadata": {},
   "source": [
    "Write a Python program to sort a tuple by its float element.\n",
    "Sample data: [('item1', '12.20'), ('item2', '15.10'), ('item3', '24.5')]\n",
    "Expected Output: [('item3', '24.5'), ('item2', '15.10'), ('item1', '12.20')]"
   ]
  },
  {
   "cell_type": "code",
   "execution_count": 42,
   "id": "abroad-regard",
   "metadata": {},
   "outputs": [
    {
     "name": "stdout",
     "output_type": "stream",
     "text": [
      "[('item3', '24.5'), ('item2', '15.10'), ('item1', '12.20')]\n"
     ]
    }
   ],
   "source": [
    "def is_float(s: str) -> bool:\n",
    "    try:\n",
    "        float(s)\n",
    "        return True\n",
    "    except ValueError:\n",
    "        return False\n",
    "    \n",
    "def find_float(tup: tuple) -> int:\n",
    "    for i in range(len(tup)):\n",
    "        if is_float(tup[i]):\n",
    "            return i\n",
    "    return None\n",
    "    \n",
    "def sort_by_float(tuples: [tuple]) -> [tuple]:\n",
    "    sorted = []\n",
    "    while len(tuples) > 0:\n",
    "        max_index = 0\n",
    "        max_float = float(tuples[0][find_float(tuples[0])])\n",
    "        for i in range(len(tuples)):\n",
    "            if float(tuples[i][find_float(tuples[i])]) > max_float:\n",
    "                max_index = i\n",
    "                max_float = float(tuples[i][find_float(tuples[i])])\n",
    "        sorted.append(tuples[max_index])\n",
    "        tuples.remove(tuples[max_index])\n",
    "    return sorted\n",
    "\n",
    "print(sort_by_float([('item1', '12.20'), ('item2', '15.10'), ('item3', '24.5')]))"
   ]
  },
  {
   "cell_type": "markdown",
   "id": "velvet-pollution",
   "metadata": {},
   "source": [
    "## From w3resource: Python Lambda\n",
    "https://www.w3resource.com/python-exercises/lambda/index.php\n",
    "1. Write a Python program to create a lambda function that adds 15 to a given number passed in as an argument, also create a lambda function that multiplies argument x with argument y and print the result."
   ]
  },
  {
   "cell_type": "code",
   "execution_count": 2,
   "id": "numerous-salad",
   "metadata": {},
   "outputs": [
    {
     "name": "stdout",
     "output_type": "stream",
     "text": [
      "25\n",
      "100\n"
     ]
    }
   ],
   "source": [
    "add_15 = lambda x: x+15\n",
    "print(add_15(10))\n",
    "multiply = lambda x, y: x*y\n",
    "print(multiply(10,10))"
   ]
  },
  {
   "cell_type": "markdown",
   "id": "complex-advocate",
   "metadata": {},
   "source": [
    "3. Write a Python program to sort a list of tuples using Lambda.\n",
    "Original list of tuples:\n",
    "[('English', 88), ('Science', 90), ('Maths', 97), ('Social sciences', 82)]\n",
    "Sorting the List of Tuples:\n",
    "[('Social sciences', 82), ('English', 88), ('Science', 90), ('Maths', 97)]"
   ]
  },
  {
   "cell_type": "code",
   "execution_count": 4,
   "id": "fatal-senior",
   "metadata": {},
   "outputs": [
    {
     "name": "stdout",
     "output_type": "stream",
     "text": [
      "[('Social sciences', 82), ('English', 88), ('Science', 90), ('Maths', 97)]\n"
     ]
    }
   ],
   "source": [
    "tuples = [('English', 88), ('Science', 90), ('Maths', 97), ('Social sciences', 82)]\n",
    "tuples.sort(key = lambda x: x[1])\n",
    "print(tuples)"
   ]
  },
  {
   "cell_type": "markdown",
   "id": "favorite-signature",
   "metadata": {},
   "source": [
    "4. Write a Python program to sort a list of dictionaries using Lambda. \n",
    "Original list of dictionaries :\n",
    "[{'make': 'Nokia', 'model': 216, 'color': 'Black'}, {'make': 'Mi Max', 'model': '2', 'color': 'Gold'}, {'make': 'Samsung', 'model': 7, 'color': 'Blue'}]\n",
    "Sorting the List of dictionaries :\n",
    "[{'make': 'Nokia', 'model': 216, 'color': 'Black'}, {'make': 'Samsung', 'model': 7, 'color': 'Blue'}, {'make': 'Mi Max', 'model': '2', 'color': 'Gold'}]"
   ]
  },
  {
   "cell_type": "code",
   "execution_count": 8,
   "id": "collected-photograph",
   "metadata": {},
   "outputs": [
    {
     "name": "stdout",
     "output_type": "stream",
     "text": [
      "[{'make': 'Nokia', 'model': 216, 'color': 'Black'}, {'make': 'Samsung', 'model': 7, 'color': 'Blue'}, {'make': 'Mi Max', 'model': '2', 'color': 'Gold'}]\n"
     ]
    }
   ],
   "source": [
    "dicts = [{'make': 'Nokia', 'model': 216, 'color': 'Black'}, {'make': 'Mi Max', 'model': '2', 'color': 'Gold'}, {'make': 'Samsung', 'model': 7, 'color': 'Blue'}]\n",
    "dicts.sort(key = lambda x: int(x['model']), reverse = True)\n",
    "print(dicts)"
   ]
  },
  {
   "cell_type": "markdown",
   "id": "adaptive-sociology",
   "metadata": {},
   "source": [
    "5. Write a Python program to filter a list of integers using Lambda.\n",
    "Original list of integers:\n",
    "[1, 2, 3, 4, 5, 6, 7, 8, 9, 10]\n",
    "Even numbers from the said list:\n",
    "[2, 4, 6, 8, 10]\n",
    "Odd numbers from the said list:\n",
    "[1, 3, 5, 7, 9]"
   ]
  },
  {
   "cell_type": "code",
   "execution_count": 3,
   "id": "superb-blond",
   "metadata": {},
   "outputs": [
    {
     "name": "stdout",
     "output_type": "stream",
     "text": [
      "[2, 4, 6, 8, 10]\n",
      "[1, 3, 5, 7, 9]\n"
     ]
    }
   ],
   "source": [
    "numbers = [1, 2, 3, 4, 5, 6, 7, 8, 9, 10]\n",
    "even_nums = list(filter(lambda x: x%2 == 0, numbers))\n",
    "print(even_nums)\n",
    "odd_nums = list(filter(lambda x: x%2 != 0, numbers))\n",
    "print(odd_nums)"
   ]
  },
  {
   "cell_type": "markdown",
   "id": "voluntary-reminder",
   "metadata": {},
   "source": [
    "# From doughsay's lc-practice on Github:\n",
    "https://gist.github.com/doughsay/cb50d9e4d344230ebc166255a202f81d"
   ]
  },
  {
   "cell_type": "code",
   "execution_count": 20,
   "id": "mechanical-transformation",
   "metadata": {},
   "outputs": [],
   "source": [
    "def identity(nums):\n",
    "    \"\"\"Identity:\n",
    "    Given a list of numbers, write a list comprehension that produces a copy of the list.\n",
    "        >>> identity([1, 2, 3, 4, 5])\n",
    "        [1, 2, 3, 4, 5]\n",
    "        >>> identity([])\n",
    "        []\n",
    "    \"\"\"\n",
    "    return [i for i in nums]\n",
    "\n",
    "def odds(nums):\n",
    "    \"\"\"Odds:\n",
    "    Given a list of numbers, write a list comprehension that produces a list of only the odd numbers in that list.\n",
    "        >>> odds([1, 2, 3, 4, 5])\n",
    "        [1, 3, 5]\n",
    "        >>> odds([2, 4, 6])\n",
    "        []\n",
    "        >>> odds([-2, -4, -7])\n",
    "        [-7]\n",
    "    \"\"\"\n",
    "    return [i for i in nums if i % 2 != 0]\n",
    "\n",
    "\n",
    "def selective_stringify_nums(nums):\n",
    "    \"\"\"Selectively stringify nums:\n",
    "    Given a list of numbers, write a list comprehension that produces a list of strings of each number that is divisible by 5.\n",
    "        >>> selective_stringify_nums([25, 91, 22, -7, -20])\n",
    "        ['25', '-20']\n",
    "    \"\"\"\n",
    "    return [str(i) for i in nums if i%5==0]\n",
    "\n",
    "def wiggle_numbers(nums):\n",
    "    \"\"\"Wiggle numbers:\n",
    "    Given a list of number, return the list with all even numbers doubled, and all odd numbers turned negative.\n",
    "        >>> wiggle_numbers([72, 26, 79, 70, 20, 68, 43, -71, 71, -2])\n",
    "        [144, 52, -79, 140, 40, 136, -43, 71, -71, -4]\n",
    "    \"\"\"\n",
    "    return [i * 2 if i%2 == 0 else -i for i in nums]\n"
   ]
  },
  {
   "cell_type": "code",
   "execution_count": 23,
   "id": "accurate-reputation",
   "metadata": {},
   "outputs": [
    {
     "name": "stderr",
     "output_type": "stream",
     "text": [
      "....\n",
      "----------------------------------------------------------------------\n",
      "Ran 4 tests in 0.003s\n",
      "\n",
      "OK\n"
     ]
    }
   ],
   "source": [
    "# Test class!\n",
    "import unittest\n",
    "\n",
    "class TestCases(unittest.TestCase):\n",
    "    \n",
    "    def test_identity(self):\n",
    "        self.assertEqual(identity([1,2,3,4,5]), [1,2,3,4,5], \"Should be [1,2,3,4,5]\")\n",
    "        self.assertEqual(identity([]),[], \"Should be []\")\n",
    "    def test_odds(self):\n",
    "        self.assertEqual(odds([1, 2, 3, 4, 5]), [1,3,5], \"should be [1,3,5]\")\n",
    "        self.assertEqual(odds([2,4,6]), [], \"should be []\")\n",
    "        self.assertEqual(odds([-2,-4,-7]), [-7], \"should be [-7]\")\n",
    "    def test_selective_stringify_nums(self):\n",
    "        self.assertEqual(selective_stringify_nums([1,5]), [\"5\"], \"should be ['5']\")\n",
    "        self.assertEqual(selective_stringify_nums([]),[], 'should be []')\n",
    "    def test_wiggle_numbers(self):\n",
    "        self.assertEqual(wiggle_numbers([72, 26, 79, 70, 20, 68, 43, -71, 71, -2]),[144, 52, -79, 140, 40, 136, -43, 71, -71, -4], 'should be [144, 52, -79, 140, 40, 136, -43, 71, -71, -4]')\n",
    "        self.assertEqual(wiggle_numbers([]),[], 'should be []')\n",
    "        \n",
    "\n",
    "if __name__ == '__main__':\n",
    "    unittest.main(argv=['first-arg-is-ignored'], exit=False)"
   ]
  },
  {
   "cell_type": "code",
   "execution_count": null,
   "id": "under-venture",
   "metadata": {},
   "outputs": [],
   "source": []
  }
 ],
 "metadata": {
  "kernelspec": {
   "display_name": "Python 3",
   "language": "python",
   "name": "python3"
  },
  "language_info": {
   "codemirror_mode": {
    "name": "ipython",
    "version": 3
   },
   "file_extension": ".py",
   "mimetype": "text/x-python",
   "name": "python",
   "nbconvert_exporter": "python",
   "pygments_lexer": "ipython3",
   "version": "3.9.1"
  }
 },
 "nbformat": 4,
 "nbformat_minor": 5
}
