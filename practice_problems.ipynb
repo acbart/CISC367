{
 "cells": [
  {
   "cell_type": "markdown",
   "id": "saved-heater",
   "metadata": {},
   "source": [
    "From https://www.learnpython.org/en/List_Comprehensions\n",
    "\n",
    "Using a list comprehension, create a new list called \"newlist\" out of the list \"numbers\", which contains only the positive numbers from the list, as integers."
   ]
  },
  {
   "cell_type": "code",
   "execution_count": 3,
   "id": "coral-saint",
   "metadata": {},
   "outputs": [
    {
     "name": "stdout",
     "output_type": "stream",
     "text": [
      "[34.6, 44.9, 68.3, 44.6, 12.7]\n"
     ]
    }
   ],
   "source": [
    "numbers = [34.6, -203.4, 44.9, 68.3, -12.2, 44.6, 12.7]\n",
    "newlist = [num for num in numbers if num > 0]\n",
    "print(newlist)"
   ]
  },
  {
   "cell_type": "markdown",
   "id": "tropical-seven",
   "metadata": {},
   "source": [
    "From https://www.learnpython.org/en/Exception_Handling\n",
    "\n",
    "Handle all the exceptions! Think back to the previous lessons to return the last name of the actor."
   ]
  },
  {
   "cell_type": "code",
   "execution_count": 6,
   "id": "lined-rugby",
   "metadata": {},
   "outputs": [
    {
     "name": "stdout",
     "output_type": "stream",
     "text": [
      "All exceptions caught! Good job!\n",
      "The actor's last name is Cleese\n"
     ]
    }
   ],
   "source": [
    "# Setup\n",
    "actor = {\"name\": \"John Cleese\", \"rank\": \"awesome\"}\n",
    "\n",
    "# Function to modify!!!\n",
    "def get_last_name(): \n",
    "    try:\n",
    "        return actor[\"last_name\"]\n",
    "    except KeyError:\n",
    "        name = actor[\"name\"]\n",
    "        return name[name.index(\" \")+1:]\n",
    "\n",
    "# Test code\n",
    "get_last_name()\n",
    "print(\"All exceptions caught! Good job!\")\n",
    "print(\"The actor's last name is %s\" % get_last_name())"
   ]
  },
  {
   "cell_type": "markdown",
   "id": "confident-singer",
   "metadata": {},
   "source": [
    "From: https://www.learnpython.org/en/Sets\n",
    "\n",
    "In the exercise below, use the given lists to print out a set containing all the participants from event A which did not attend event B."
   ]
  },
  {
   "cell_type": "code",
   "execution_count": 8,
   "id": "subject-southwest",
   "metadata": {},
   "outputs": [
    {
     "name": "stdout",
     "output_type": "stream",
     "text": [
      "{'Jake', 'Eric'}\n"
     ]
    }
   ],
   "source": [
    "a = [\"Jake\", \"John\", \"Eric\"]\n",
    "b = [\"John\", \"Jill\"]\n",
    "\n",
    "set_a = set(a)\n",
    "set_b = set(b)\n",
    "print(set_a.difference(set_b))"
   ]
  },
  {
   "cell_type": "markdown",
   "id": "french-impossible",
   "metadata": {},
   "source": [
    "# Practice Plan starts here"
   ]
  },
  {
   "cell_type": "markdown",
   "id": "close-impact",
   "metadata": {},
   "source": [
    "## From w3resource: Tuples\n",
    "https://www.w3resource.com/python-exercises/tuple/\n",
    "\n",
    "3. Write a Python program to create a tuple with numbers and print one item."
   ]
  },
  {
   "cell_type": "code",
   "execution_count": 2,
   "id": "foster-pipeline",
   "metadata": {},
   "outputs": [
    {
     "name": "stdout",
     "output_type": "stream",
     "text": [
      "3\n"
     ]
    }
   ],
   "source": [
    "tup = (1,2,3,4)\n",
    "print(tup[2])"
   ]
  },
  {
   "cell_type": "markdown",
   "id": "cooperative-operator",
   "metadata": {},
   "source": [
    "4. Write a Python program to unpack a tuple in several variables."
   ]
  },
  {
   "cell_type": "code",
   "execution_count": 4,
   "id": "informed-surveillance",
   "metadata": {},
   "outputs": [
    {
     "name": "stdout",
     "output_type": "stream",
     "text": [
      "1\n",
      "2\n",
      "hello\n"
     ]
    }
   ],
   "source": [
    "tup = (1, 2, \"hello\")\n",
    "(num1, num2, string1) = tup\n",
    "print(num1)\n",
    "print(num2)\n",
    "print(string1)"
   ]
  },
  {
   "cell_type": "markdown",
   "id": "humanitarian-partnership",
   "metadata": {},
   "source": [
    "5. Write a Python program to add an item in a tuple."
   ]
  },
  {
   "cell_type": "code",
   "execution_count": 8,
   "id": "sweet-divorce",
   "metadata": {},
   "outputs": [
    {
     "name": "stdout",
     "output_type": "stream",
     "text": [
      "(4, 1, 2, 3)\n",
      "(1, 2, 3, 4)\n"
     ]
    }
   ],
   "source": [
    "def add_to_tuple(orig_tuple: tuple, index: int, item) -> tuple:\n",
    "    new_tuple = None\n",
    "    item_in_tuple = (item,)\n",
    "    if index < len(orig_tuple):\n",
    "        new_tuple = orig_tuple[:index] + item_in_tuple + orig_tuple[index:]\n",
    "    elif index == len(orig_tuple):\n",
    "        new_tuple = orig_tuple + item_in_tuple\n",
    "    return new_tuple\n",
    "\n",
    "print(add_to_tuple((1,2,3), 0, 4))\n",
    "print(add_to_tuple((1,2,3), 3, 4))"
   ]
  },
  {
   "cell_type": "markdown",
   "id": "metric-nebraska",
   "metadata": {},
   "source": [
    "6. Write a Python program to convert a tuple to a string."
   ]
  },
  {
   "cell_type": "code",
   "execution_count": 9,
   "id": "sensitive-bidder",
   "metadata": {},
   "outputs": [
    {
     "name": "stdout",
     "output_type": "stream",
     "text": [
      "(1, 2, 3)\n"
     ]
    }
   ],
   "source": [
    "tup = (1,2,3)\n",
    "tup_as_string = str(tup)\n",
    "print(tup_as_string)"
   ]
  },
  {
   "cell_type": "markdown",
   "id": "continuous-diving",
   "metadata": {},
   "source": [
    "9. Write a Python program to find the repeated items of a tuple."
   ]
  },
  {
   "cell_type": "code",
   "execution_count": 12,
   "id": "intellectual-vector",
   "metadata": {},
   "outputs": [
    {
     "name": "stdout",
     "output_type": "stream",
     "text": [
      "[1, 3]\n",
      "[]\n"
     ]
    }
   ],
   "source": [
    "def find_repeated_items(tup: tuple) -> list:\n",
    "    repeated_items = []\n",
    "    seen_items = []\n",
    "    for item in tup:\n",
    "        if item not in seen_items:\n",
    "            seen_items.append(item)\n",
    "        elif item in seen_items and item not in repeated_items:\n",
    "            repeated_items.append(item)\n",
    "    return repeated_items\n",
    "\n",
    "print(find_repeated_items((1,2,3,1,3,4)))\n",
    "print(find_repeated_items((1,2,3)))"
   ]
  },
  {
   "cell_type": "markdown",
   "id": "assisted-literacy",
   "metadata": {},
   "source": [
    "11. Write a Python program to convert a list to a tuple."
   ]
  },
  {
   "cell_type": "code",
   "execution_count": 13,
   "id": "norwegian-extreme",
   "metadata": {},
   "outputs": [
    {
     "name": "stdout",
     "output_type": "stream",
     "text": [
      "(1, 2, 3, 'hello')\n"
     ]
    }
   ],
   "source": [
    "lst = [1,2,3,\"hello\"]\n",
    "tup = tuple(lst)\n",
    "print(tup)"
   ]
  },
  {
   "cell_type": "markdown",
   "id": "unauthorized-escape",
   "metadata": {},
   "source": [
    "18. Write a Python program to reverse a tuple."
   ]
  },
  {
   "cell_type": "code",
   "execution_count": 14,
   "id": "circular-breakfast",
   "metadata": {},
   "outputs": [
    {
     "name": "stdout",
     "output_type": "stream",
     "text": [
      "(3, 2, 1)\n"
     ]
    }
   ],
   "source": [
    "def reverse(tup: tuple) -> tuple:\n",
    "    return tup[::-1]\n",
    "\n",
    "print(reverse((1,2,3)))"
   ]
  },
  {
   "cell_type": "markdown",
   "id": "interstate-builder",
   "metadata": {},
   "source": [
    "21. Write a Python program to replace last value of tuples in a list.\n",
    "Sample list: [(10, 20, 40), (40, 50, 60), (70, 80, 90)]\n",
    "Expected Output: [(10, 20, 100), (40, 50, 100), (70, 80, 100)]"
   ]
  },
  {
   "cell_type": "code",
   "execution_count": 21,
   "id": "indie-scene",
   "metadata": {},
   "outputs": [
    {
     "name": "stdout",
     "output_type": "stream",
     "text": [
      "[(10, 20, 100), (40, 50, 100), (70, 80, 100)]\n"
     ]
    }
   ],
   "source": [
    "def replace_last(tuples: [tuple], value) -> [tuple]:\n",
    "    new_tuples =[]\n",
    "    value_as_tuple = (value,)\n",
    "    for tup in tuples:\n",
    "        new_tuples.append(tup[:-1] + value_as_tuple)\n",
    "    return new_tuples\n",
    "\n",
    "print(replace_last([(10, 20, 40), (40, 50, 60), (70, 80, 90)], 100))"
   ]
  },
  {
   "cell_type": "markdown",
   "id": "characteristic-wells",
   "metadata": {},
   "source": [
    "22. Write a Python program to remove an empty tuple(s) from a list of tuples. \n",
    "Sample data: [(), (), ('',), ('a', 'b'), ('a', 'b', 'c'), ('d')]\n",
    "Expected output: [('',), ('a', 'b'), ('a', 'b', 'c'), 'd']"
   ]
  },
  {
   "cell_type": "markdown",
   "id": "latin-synthetic",
   "metadata": {},
   "source": [
    "Write a Python program to sort a tuple by its float element.\n",
    "Sample data: [('item1', '12.20'), ('item2', '15.10'), ('item3', '24.5')]\n",
    "Expected Output: [('item3', '24.5'), ('item2', '15.10'), ('item1', '12.20')]"
   ]
  },
  {
   "cell_type": "code",
   "execution_count": 42,
   "id": "sitting-plenty",
   "metadata": {},
   "outputs": [
    {
     "name": "stdout",
     "output_type": "stream",
     "text": [
      "[('item3', '24.5'), ('item2', '15.10'), ('item1', '12.20')]\n"
     ]
    }
   ],
   "source": [
    "def is_float(s: str) -> bool:\n",
    "    try:\n",
    "        float(s)\n",
    "        return True\n",
    "    except ValueError:\n",
    "        return False\n",
    "    \n",
    "def find_float(tup: tuple) -> int:\n",
    "    for i in range(len(tup)):\n",
    "        if is_float(tup[i]):\n",
    "            return i\n",
    "    return None\n",
    "    \n",
    "def sort_by_float(tuples: [tuple]) -> [tuple]:\n",
    "    sorted = []\n",
    "    while len(tuples) > 0:\n",
    "        max_index = 0\n",
    "        max_float = float(tuples[0][find_float(tuples[0])])\n",
    "        for i in range(len(tuples)):\n",
    "            if float(tuples[i][find_float(tuples[i])]) > max_float:\n",
    "                max_index = i\n",
    "                max_float = float(tuples[i][find_float(tuples[i])])\n",
    "        sorted.append(tuples[max_index])\n",
    "        tuples.remove(tuples[max_index])\n",
    "    return sorted\n",
    "\n",
    "print(sort_by_float([('item1', '12.20'), ('item2', '15.10'), ('item3', '24.5')]))"
   ]
  },
  {
   "cell_type": "markdown",
   "id": "stone-server",
   "metadata": {},
   "source": [
    "## From w3resource: Python Lambda\n",
    "https://www.w3resource.com/python-exercises/lambda/index.php\n",
    "1. Write a Python program to create a lambda function that adds 15 to a given number passed in as an argument, also create a lambda function that multiplies argument x with argument y and print the result."
   ]
  },
  {
   "cell_type": "code",
   "execution_count": 2,
   "id": "static-pierce",
   "metadata": {},
   "outputs": [
    {
     "name": "stdout",
     "output_type": "stream",
     "text": [
      "25\n",
      "100\n"
     ]
    }
   ],
   "source": [
    "add_15 = lambda x: x+15\n",
    "print(add_15(10))\n",
    "multiply = lambda x, y: x*y\n",
    "print(multiply(10,10))"
   ]
  },
  {
   "cell_type": "markdown",
   "id": "genuine-mitchell",
   "metadata": {},
   "source": [
    "3. Write a Python program to sort a list of tuples using Lambda.\n",
    "Original list of tuples:\n",
    "[('English', 88), ('Science', 90), ('Maths', 97), ('Social sciences', 82)]\n",
    "Sorting the List of Tuples:\n",
    "[('Social sciences', 82), ('English', 88), ('Science', 90), ('Maths', 97)]"
   ]
  },
  {
   "cell_type": "code",
   "execution_count": 4,
   "id": "interracial-access",
   "metadata": {},
   "outputs": [
    {
     "name": "stdout",
     "output_type": "stream",
     "text": [
      "[('Social sciences', 82), ('English', 88), ('Science', 90), ('Maths', 97)]\n"
     ]
    }
   ],
   "source": [
    "tuples = [('English', 88), ('Science', 90), ('Maths', 97), ('Social sciences', 82)]\n",
    "tuples.sort(key = lambda x: x[1])\n",
    "print(tuples)"
   ]
  },
  {
   "cell_type": "markdown",
   "id": "dried-australia",
   "metadata": {},
   "source": [
    "4. Write a Python program to sort a list of dictionaries using Lambda. \n",
    "Original list of dictionaries :\n",
    "[{'make': 'Nokia', 'model': 216, 'color': 'Black'}, {'make': 'Mi Max', 'model': '2', 'color': 'Gold'}, {'make': 'Samsung', 'model': 7, 'color': 'Blue'}]\n",
    "Sorting the List of dictionaries :\n",
    "[{'make': 'Nokia', 'model': 216, 'color': 'Black'}, {'make': 'Samsung', 'model': 7, 'color': 'Blue'}, {'make': 'Mi Max', 'model': '2', 'color': 'Gold'}]"
   ]
  },
  {
   "cell_type": "code",
   "execution_count": 8,
   "id": "virgin-christian",
   "metadata": {},
   "outputs": [
    {
     "name": "stdout",
     "output_type": "stream",
     "text": [
      "[{'make': 'Nokia', 'model': 216, 'color': 'Black'}, {'make': 'Samsung', 'model': 7, 'color': 'Blue'}, {'make': 'Mi Max', 'model': '2', 'color': 'Gold'}]\n"
     ]
    }
   ],
   "source": [
    "dicts = [{'make': 'Nokia', 'model': 216, 'color': 'Black'}, {'make': 'Mi Max', 'model': '2', 'color': 'Gold'}, {'make': 'Samsung', 'model': 7, 'color': 'Blue'}]\n",
    "dicts.sort(key = lambda x: int(x['model']), reverse = True)\n",
    "print(dicts)"
   ]
  },
  {
   "cell_type": "code",
   "execution_count": null,
   "id": "prompt-blake",
   "metadata": {},
   "outputs": [],
   "source": []
  }
 ],
 "metadata": {
  "kernelspec": {
   "display_name": "Python 3",
   "language": "python",
   "name": "python3"
  },
  "language_info": {
   "codemirror_mode": {
    "name": "ipython",
    "version": 3
   },
   "file_extension": ".py",
   "mimetype": "text/x-python",
   "name": "python",
   "nbconvert_exporter": "python",
   "pygments_lexer": "ipython3",
   "version": "3.9.1"
  }
 },
 "nbformat": 4,
 "nbformat_minor": 5
}
